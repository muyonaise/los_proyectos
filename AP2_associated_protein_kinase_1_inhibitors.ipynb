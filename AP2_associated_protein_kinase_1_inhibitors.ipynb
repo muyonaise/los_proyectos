{
  "nbformat": 4,
  "nbformat_minor": 0,
  "metadata": {
    "colab": {
      "name": "AP2-associated_protein_kinase_1_inhibitors.ipynb",
      "provenance": [],
      "collapsed_sections": [],
      "authorship_tag": "ABX9TyMVshEiQsKKrjCaecG8ikcx",
      "include_colab_link": true
    },
    "kernelspec": {
      "name": "python3",
      "display_name": "Python 3"
    }
  },
  "cells": [
    {
      "cell_type": "markdown",
      "metadata": {
        "id": "view-in-github",
        "colab_type": "text"
      },
      "source": [
        "<a href=\"https://colab.research.google.com/github/muyonaise/projects/blob/main/AP2_associated_protein_kinase_1_inhibitors.ipynb\" target=\"_parent\"><img src=\"https://colab.research.google.com/assets/colab-badge.svg\" alt=\"Open In Colab\"/></a>"
      ]
    },
    {
      "cell_type": "markdown",
      "metadata": {
        "id": "a8-pQxK1SlST"
      },
      "source": [
        "# **Cheminformatics COVID project - Baricitinib proposed as a potential treated for COVID-19: Collecting, processing and initial analysis of data**\n",
        "\n",
        "https://www.thelancet.com/action/showPdf?pii=S0140-6736%2820%2930304-4\n",
        "\n",
        "\"Disruption of AAK1 might,\n",
        "in turn, interrupt the passage of the\n",
        "virus into cells and also the intracellular\n",
        "assembly of virus particles\""
      ]
    },
    {
      "cell_type": "markdown",
      "metadata": {
        "id": "sVssYvLoT-rt"
      },
      "source": [
        "## **Setting up**"
      ]
    },
    {
      "cell_type": "code",
      "metadata": {
        "id": "we2ESw9zWvXt",
        "colab": {
          "base_uri": "https://localhost:8080/"
        },
        "outputId": "59e9a83e-52f1-4ce2-a258-67433997a85f"
      },
      "source": [
        "! pip install kora\n",
        "! pip install chembl_webresource_client\n",
        "import kora.install.rdkit"
      ],
      "execution_count": null,
      "outputs": [
        {
          "output_type": "stream",
          "text": [
            "Collecting kora\n",
            "\u001b[?25l  Downloading https://files.pythonhosted.org/packages/23/1a/6891aa274c9107375f20e1ebca7455d7bf562791d05645bda737ae488225/kora-0.9.11-py3-none-any.whl (55kB)\n",
            "\u001b[K     |████████████████████████████████| 61kB 3.3MB/s \n",
            "\u001b[?25hCollecting fastcore\n",
            "\u001b[?25l  Downloading https://files.pythonhosted.org/packages/59/80/a61e8b91e2f65b0b6fd1449008470545ad771d6041e529504c6e5df4d4e7/fastcore-1.3.6-py3-none-any.whl (48kB)\n",
            "\u001b[K     |████████████████████████████████| 51kB 4.6MB/s \n",
            "\u001b[?25hRequirement already satisfied: ipython in /usr/local/lib/python3.6/dist-packages (from kora) (5.5.0)\n",
            "Requirement already satisfied: packaging in /usr/local/lib/python3.6/dist-packages (from fastcore->kora) (20.4)\n",
            "Requirement already satisfied: pip in /usr/local/lib/python3.6/dist-packages (from fastcore->kora) (19.3.1)\n",
            "Requirement already satisfied: setuptools>=18.5 in /usr/local/lib/python3.6/dist-packages (from ipython->kora) (50.3.2)\n",
            "Requirement already satisfied: pickleshare in /usr/local/lib/python3.6/dist-packages (from ipython->kora) (0.7.5)\n",
            "Requirement already satisfied: pexpect; sys_platform != \"win32\" in /usr/local/lib/python3.6/dist-packages (from ipython->kora) (4.8.0)\n",
            "Requirement already satisfied: traitlets>=4.2 in /usr/local/lib/python3.6/dist-packages (from ipython->kora) (4.3.3)\n",
            "Requirement already satisfied: decorator in /usr/local/lib/python3.6/dist-packages (from ipython->kora) (4.4.2)\n",
            "Requirement already satisfied: pygments in /usr/local/lib/python3.6/dist-packages (from ipython->kora) (2.6.1)\n",
            "Requirement already satisfied: prompt-toolkit<2.0.0,>=1.0.4 in /usr/local/lib/python3.6/dist-packages (from ipython->kora) (1.0.18)\n",
            "Requirement already satisfied: simplegeneric>0.8 in /usr/local/lib/python3.6/dist-packages (from ipython->kora) (0.8.1)\n",
            "Requirement already satisfied: pyparsing>=2.0.2 in /usr/local/lib/python3.6/dist-packages (from packaging->fastcore->kora) (2.4.7)\n",
            "Requirement already satisfied: six in /usr/local/lib/python3.6/dist-packages (from packaging->fastcore->kora) (1.15.0)\n",
            "Requirement already satisfied: ptyprocess>=0.5 in /usr/local/lib/python3.6/dist-packages (from pexpect; sys_platform != \"win32\"->ipython->kora) (0.6.0)\n",
            "Requirement already satisfied: ipython-genutils in /usr/local/lib/python3.6/dist-packages (from traitlets>=4.2->ipython->kora) (0.2.0)\n",
            "Requirement already satisfied: wcwidth in /usr/local/lib/python3.6/dist-packages (from prompt-toolkit<2.0.0,>=1.0.4->ipython->kora) (0.2.5)\n",
            "Installing collected packages: fastcore, kora\n",
            "Successfully installed fastcore-1.3.6 kora-0.9.11\n",
            "Collecting chembl_webresource_client\n",
            "\u001b[?25l  Downloading https://files.pythonhosted.org/packages/2e/48/0db29040c92726fcc6f99a5bc89e0ea8cf5a9d84753ebaaf53108792da2a/chembl-webresource-client-0.10.2.tar.gz (51kB)\n",
            "\u001b[K     |████████████████████████████████| 61kB 3.2MB/s \n",
            "\u001b[?25hRequirement already satisfied: urllib3 in /usr/local/lib/python3.6/dist-packages (from chembl_webresource_client) (1.24.3)\n",
            "Requirement already satisfied: requests>=2.18.4 in /usr/local/lib/python3.6/dist-packages (from chembl_webresource_client) (2.23.0)\n",
            "Collecting requests-cache>=0.4.7\n",
            "  Downloading https://files.pythonhosted.org/packages/7f/55/9b1c40eb83c16d8fc79c5f6c2ffade04208b080670fbfc35e0a5effb5a92/requests_cache-0.5.2-py2.py3-none-any.whl\n",
            "Requirement already satisfied: easydict in /usr/local/lib/python3.6/dist-packages (from chembl_webresource_client) (1.9)\n",
            "Requirement already satisfied: chardet<4,>=3.0.2 in /usr/local/lib/python3.6/dist-packages (from requests>=2.18.4->chembl_webresource_client) (3.0.4)\n",
            "Requirement already satisfied: idna<3,>=2.5 in /usr/local/lib/python3.6/dist-packages (from requests>=2.18.4->chembl_webresource_client) (2.10)\n",
            "Requirement already satisfied: certifi>=2017.4.17 in /usr/local/lib/python3.6/dist-packages (from requests>=2.18.4->chembl_webresource_client) (2020.6.20)\n",
            "Building wheels for collected packages: chembl-webresource-client\n",
            "  Building wheel for chembl-webresource-client (setup.py) ... \u001b[?25l\u001b[?25hdone\n",
            "  Created wheel for chembl-webresource-client: filename=chembl_webresource_client-0.10.2-cp36-none-any.whl size=55662 sha256=e8be6b40b586c8d4b249746fbd70fc181cdd77c9b9bc97e38f7d93350d0cc8aa\n",
            "  Stored in directory: /root/.cache/pip/wheels/e6/96/19/3f042bfda7c669bfe24c8278477f57b0fbbf3e488b4c09e3a8\n",
            "Successfully built chembl-webresource-client\n",
            "Installing collected packages: requests-cache, chembl-webresource-client\n",
            "Successfully installed chembl-webresource-client-0.10.2 requests-cache-0.5.2\n"
          ],
          "name": "stdout"
        }
      ]
    },
    {
      "cell_type": "code",
      "metadata": {
        "id": "Q3B9U9F3W3tM"
      },
      "source": [
        "from rdkit import Chem\n",
        "from rdkit.Chem import Draw\n",
        "from rdkit.Chem.Draw import IPythonConsole\n",
        "from rdkit.Chem import Descriptors, Lipinski\n",
        "import numpy as np\n",
        "import pandas as pd\n",
        "import seaborn as sbn\n",
        "import matplotlib.pyplot as plt\n",
        "from chembl_webresource_client.new_client import new_client"
      ],
      "execution_count": null,
      "outputs": []
    },
    {
      "cell_type": "markdown",
      "metadata": {
        "id": "CIz60R91WKfu"
      },
      "source": [
        "## **Searching for regulator of endocytosis, AAK1, and drugs known to inhibit its activity**"
      ]
    },
    {
      "cell_type": "markdown",
      "metadata": {
        "id": "zzKN93g6X7SP"
      },
      "source": [
        "### **AAK1**"
      ]
    },
    {
      "cell_type": "code",
      "metadata": {
        "id": "vYOY3ONzT3yn",
        "colab": {
          "base_uri": "https://localhost:8080/",
          "height": 77
        },
        "outputId": "686a461a-113b-4e61-b463-11e9219714e9"
      },
      "source": [
        "# Searching the ChEMBL database for AP2-associated protein kinase 1's target report card\n",
        "target = new_client.target\n",
        "target_query = target.search('AAK1')\n",
        "targets = pd.DataFrame(target_query)\n",
        "targets"
      ],
      "execution_count": null,
      "outputs": [
        {
          "output_type": "execute_result",
          "data": {
            "text/html": [
              "<div>\n",
              "<style scoped>\n",
              "    .dataframe tbody tr th:only-of-type {\n",
              "        vertical-align: middle;\n",
              "    }\n",
              "\n",
              "    .dataframe tbody tr th {\n",
              "        vertical-align: top;\n",
              "    }\n",
              "\n",
              "    .dataframe thead th {\n",
              "        text-align: right;\n",
              "    }\n",
              "</style>\n",
              "<table border=\"1\" class=\"dataframe\">\n",
              "  <thead>\n",
              "    <tr style=\"text-align: right;\">\n",
              "      <th></th>\n",
              "      <th>cross_references</th>\n",
              "      <th>organism</th>\n",
              "      <th>pref_name</th>\n",
              "      <th>score</th>\n",
              "      <th>species_group_flag</th>\n",
              "      <th>target_chembl_id</th>\n",
              "      <th>target_components</th>\n",
              "      <th>target_type</th>\n",
              "      <th>tax_id</th>\n",
              "    </tr>\n",
              "  </thead>\n",
              "  <tbody>\n",
              "    <tr>\n",
              "      <th>0</th>\n",
              "      <td>[{'xref_id': 'AAK1', 'xref_name': None, 'xref_...</td>\n",
              "      <td>Homo sapiens</td>\n",
              "      <td>Adaptor-associated kinase</td>\n",
              "      <td>17.0</td>\n",
              "      <td>False</td>\n",
              "      <td>CHEMBL3830</td>\n",
              "      <td>[{'accession': 'Q2M2I8', 'component_descriptio...</td>\n",
              "      <td>SINGLE PROTEIN</td>\n",
              "      <td>9606</td>\n",
              "    </tr>\n",
              "  </tbody>\n",
              "</table>\n",
              "</div>"
            ],
            "text/plain": [
              "                                    cross_references  ... tax_id\n",
              "0  [{'xref_id': 'AAK1', 'xref_name': None, 'xref_...  ...   9606\n",
              "\n",
              "[1 rows x 9 columns]"
            ]
          },
          "metadata": {
            "tags": []
          },
          "execution_count": 3
        }
      ]
    },
    {
      "cell_type": "code",
      "metadata": {
        "id": "dxue9vr6XdMS",
        "colab": {
          "base_uri": "https://localhost:8080/",
          "height": 35
        },
        "outputId": "cace5288-d2f1-406a-d8b3-bda4f533825e"
      },
      "source": [
        "targets.target_chembl_id[0]"
      ],
      "execution_count": null,
      "outputs": [
        {
          "output_type": "execute_result",
          "data": {
            "application/vnd.google.colaboratory.intrinsic+json": {
              "type": "string"
            },
            "text/plain": [
              "'CHEMBL3830'"
            ]
          },
          "metadata": {
            "tags": []
          },
          "execution_count": 4
        }
      ]
    },
    {
      "cell_type": "markdown",
      "metadata": {
        "id": "JxlYh8T_YDjE"
      },
      "source": [
        "### **Bioactivity data for AAK1**"
      ]
    },
    {
      "cell_type": "markdown",
      "metadata": {
        "id": "qUfF0fT0YO1d"
      },
      "source": [
        "We now search for the bioactivity data of potential drugs to inhibit AAK1\n",
        "\n",
        "So initially I only looked for activities of units IC50 only, and neglected those with other units as to avoid confusion/incorrect units\n",
        "```\n",
        "bioactivity = new_client.activity\n",
        "leads = bioactivity.filter(target_chembl_id=targets.target_chembl_id[0]).filter(standard_type=\"IC50\")\n",
        "```\n",
        "\n",
        "However that only gave me 10 hits... It might be tricky to fit anything to that"
      ]
    },
    {
      "cell_type": "code",
      "metadata": {
        "id": "dKSEo-dgeNFS",
        "colab": {
          "base_uri": "https://localhost:8080/"
        },
        "outputId": "d177343c-0757-4b15-df5d-2033fee130f3"
      },
      "source": [
        "bioactivity = new_client.activity\n",
        "ld = bioactivity.filter(target_chembl_id=targets.target_chembl_id[0]).filter(standard_type=\"IC50\")\n",
        "df_ld = pd.DataFrame(ld)\n",
        "len(df_ld)"
      ],
      "execution_count": null,
      "outputs": [
        {
          "output_type": "execute_result",
          "data": {
            "text/plain": [
              "10"
            ]
          },
          "metadata": {
            "tags": []
          },
          "execution_count": 5
        }
      ]
    },
    {
      "cell_type": "code",
      "metadata": {
        "id": "-etDc9i7ehZ9",
        "colab": {
          "base_uri": "https://localhost:8080/"
        },
        "outputId": "7240c080-6d7f-4f61-996c-68c9732a9bf5"
      },
      "source": [
        "# drop any data with empty activity entries and remove duplicates\n",
        "df_ld2 = df_ld[df_ld.standard_value.notna()]\n",
        "df_ld2.drop_duplicates(subset='molecule_chembl_id')\n",
        "len(df_ld2)"
      ],
      "execution_count": null,
      "outputs": [
        {
          "output_type": "execute_result",
          "data": {
            "text/plain": [
              "9"
            ]
          },
          "metadata": {
            "tags": []
          },
          "execution_count": 6
        }
      ]
    },
    {
      "cell_type": "code",
      "metadata": {
        "id": "ToimjQpZe3I_",
        "colab": {
          "base_uri": "https://localhost:8080/",
          "height": 317
        },
        "outputId": "066c7ef2-110d-40b0-a362-3a5ef765183f"
      },
      "source": [
        "selected_ld = df_ld2[['molecule_pref_name','molecule_chembl_id','canonical_smiles','standard_value']]\n",
        "selected_ld"
      ],
      "execution_count": null,
      "outputs": [
        {
          "output_type": "execute_result",
          "data": {
            "text/html": [
              "<div>\n",
              "<style scoped>\n",
              "    .dataframe tbody tr th:only-of-type {\n",
              "        vertical-align: middle;\n",
              "    }\n",
              "\n",
              "    .dataframe tbody tr th {\n",
              "        vertical-align: top;\n",
              "    }\n",
              "\n",
              "    .dataframe thead th {\n",
              "        text-align: right;\n",
              "    }\n",
              "</style>\n",
              "<table border=\"1\" class=\"dataframe\">\n",
              "  <thead>\n",
              "    <tr style=\"text-align: right;\">\n",
              "      <th></th>\n",
              "      <th>molecule_pref_name</th>\n",
              "      <th>molecule_chembl_id</th>\n",
              "      <th>canonical_smiles</th>\n",
              "      <th>standard_value</th>\n",
              "    </tr>\n",
              "  </thead>\n",
              "  <tbody>\n",
              "    <tr>\n",
              "      <th>1</th>\n",
              "      <td>None</td>\n",
              "      <td>CHEMBL2205766</td>\n",
              "      <td>CC(C)(C)NS(=O)(=O)c1cncc(-c2ccn3nc(N)nc3c2)c1</td>\n",
              "      <td>5888.44</td>\n",
              "    </tr>\n",
              "    <tr>\n",
              "      <th>2</th>\n",
              "      <td>None</td>\n",
              "      <td>CHEMBL4085072</td>\n",
              "      <td>CC(C)C[C@](C)(N)COc1ccc(-c2ccnc3ccccc23)cc1C1CC1</td>\n",
              "      <td>0.07</td>\n",
              "    </tr>\n",
              "    <tr>\n",
              "      <th>3</th>\n",
              "      <td>None</td>\n",
              "      <td>CHEMBL4103020</td>\n",
              "      <td>Cc1cc(-c2ccc(OC[C@@](C)(N)CC(C)C)c(S(C)(=O)=O)...</td>\n",
              "      <td>1400.0</td>\n",
              "    </tr>\n",
              "    <tr>\n",
              "      <th>4</th>\n",
              "      <td>None</td>\n",
              "      <td>CHEMBL4092824</td>\n",
              "      <td>Cc1cc(-c2cc(C(F)F)c(OC[C@@](C)(N)CC(C)C)cn2)ccn1</td>\n",
              "      <td>0.51</td>\n",
              "    </tr>\n",
              "    <tr>\n",
              "      <th>5</th>\n",
              "      <td>None</td>\n",
              "      <td>CHEMBL4065155</td>\n",
              "      <td>CC(C)C[C@](C)(N)COc1ncc(-c2ccnc3ccccc23)cc1C(F)F</td>\n",
              "      <td>0.23</td>\n",
              "    </tr>\n",
              "    <tr>\n",
              "      <th>6</th>\n",
              "      <td>None</td>\n",
              "      <td>CHEMBL4066208</td>\n",
              "      <td>CC(C)C[C@](C)(N)COc1ccc(-c2ccnc(C(C)C)n2)cc1F</td>\n",
              "      <td>886.0</td>\n",
              "    </tr>\n",
              "    <tr>\n",
              "      <th>7</th>\n",
              "      <td>None</td>\n",
              "      <td>CHEMBL4073745</td>\n",
              "      <td>COc1cc(-c2ccnc(NC(C)=O)c2)ccc1OC[C@@H](N)CC(C)C</td>\n",
              "      <td>3.0</td>\n",
              "    </tr>\n",
              "    <tr>\n",
              "      <th>8</th>\n",
              "      <td>None</td>\n",
              "      <td>CHEMBL4084103</td>\n",
              "      <td>COC(=O)Nc1cc(-c2ccc(OC[C@@](C)(N)CC(C)C)c(C3CC...</td>\n",
              "      <td>0.32</td>\n",
              "    </tr>\n",
              "    <tr>\n",
              "      <th>9</th>\n",
              "      <td>None</td>\n",
              "      <td>CHEMBL4062388</td>\n",
              "      <td>CC(=O)Nc1cc(-c2ccc(OC[C@@H](N)CC(C)C)c(C)c2)ccn1</td>\n",
              "      <td>0.42</td>\n",
              "    </tr>\n",
              "  </tbody>\n",
              "</table>\n",
              "</div>"
            ],
            "text/plain": [
              "  molecule_pref_name  ... standard_value\n",
              "1               None  ...        5888.44\n",
              "2               None  ...           0.07\n",
              "3               None  ...         1400.0\n",
              "4               None  ...           0.51\n",
              "5               None  ...           0.23\n",
              "6               None  ...          886.0\n",
              "7               None  ...            3.0\n",
              "8               None  ...           0.32\n",
              "9               None  ...           0.42\n",
              "\n",
              "[9 rows x 4 columns]"
            ]
          },
          "metadata": {
            "tags": []
          },
          "execution_count": 7
        }
      ]
    },
    {
      "cell_type": "markdown",
      "metadata": {
        "id": "cJaP9r-JgFJZ"
      },
      "source": [
        "As the dataset is so small we can visualise these 9 molecules using RDKit. Maybe Baricitinib is one of them"
      ]
    },
    {
      "cell_type": "code",
      "metadata": {
        "id": "qGs3CJl5gBx4",
        "colab": {
          "base_uri": "https://localhost:8080/",
          "height": 416
        },
        "outputId": "2163c667-6b49-4b41-af9f-df3d2f28ab1f"
      },
      "source": [
        "mol_list = []\n",
        "for m in selected_ld['canonical_smiles']:\n",
        "  mol = Chem.MolFromSmiles(m)\n",
        "  mol_list.append(mol)\n",
        "\n",
        "Draw.MolsToGridImage(mol_list, molsPerRow=5)"
      ],
      "execution_count": null,
      "outputs": [
        {
          "output_type": "execute_result",
          "data": {
            "image/png": "[encoded data removed]",
            "text/plain": [
              "<PIL.PngImagePlugin.PngImageFile image mode=RGB size=1000x400 at 0x7F4505BD0D68>"
            ]
          },
          "metadata": {
            "tags": []
          },
          "execution_count": 8
        }
      ]
    },
    {
      "cell_type": "markdown",
      "metadata": {
        "id": "SCyrjkugjJv3"
      },
      "source": [
        "Nope. No baricitinib to be found. But one could do some further studies on these structures. Especially those with IC50s < 1000 nM. As that suggests only small concentrations of them are required to inhibit AAK1 to 50%."
      ]
    },
    {
      "cell_type": "markdown",
      "metadata": {
        "id": "DbeKESFCfv_U"
      },
      "source": [
        "### **A broader search**"
      ]
    },
    {
      "cell_type": "code",
      "metadata": {
        "id": "PMJg8Yp_XrUs"
      },
      "source": [
        "# ok first lets find out what the most common activity type is\n",
        "leads = bioactivity.filter(target_chembl_id=targets.target_chembl_id[0])"
      ],
      "execution_count": null,
      "outputs": []
    },
    {
      "cell_type": "code",
      "metadata": {
        "id": "iflOXj3QZARj",
        "colab": {
          "base_uri": "https://localhost:8080/"
        },
        "outputId": "806bca6f-6978-4858-fc6b-f614b0cbba3a"
      },
      "source": [
        "df_leads = pd.DataFrame(leads)\n",
        "len(df_leads)"
      ],
      "execution_count": null,
      "outputs": [
        {
          "output_type": "execute_result",
          "data": {
            "text/plain": [
              "466"
            ]
          },
          "metadata": {
            "tags": []
          },
          "execution_count": 10
        }
      ]
    },
    {
      "cell_type": "markdown",
      "metadata": {
        "id": "n4WuLRjoeZnf"
      },
      "source": [
        "Let's check the list of leads for Baricitinib (CHEMBL2105759)\n",
        "https://www.ebi.ac.uk/chembl/compound_report_card/CHEMBL2105759/"
      ]
    },
    {
      "cell_type": "code",
      "metadata": {
        "id": "U-SykLcoeZUA",
        "colab": {
          "base_uri": "https://localhost:8080/",
          "height": 147
        },
        "outputId": "1fb904f6-cad4-4a45-be25-2b79583b3abc"
      },
      "source": [
        "df_leads.loc[df_leads.molecule_chembl_id == 'CHEMBL2105759']"
      ],
      "execution_count": null,
      "outputs": [
        {
          "output_type": "execute_result",
          "data": {
            "text/html": [
              "<div>\n",
              "<style scoped>\n",
              "    .dataframe tbody tr th:only-of-type {\n",
              "        vertical-align: middle;\n",
              "    }\n",
              "\n",
              "    .dataframe tbody tr th {\n",
              "        vertical-align: top;\n",
              "    }\n",
              "\n",
              "    .dataframe thead th {\n",
              "        text-align: right;\n",
              "    }\n",
              "</style>\n",
              "<table border=\"1\" class=\"dataframe\">\n",
              "  <thead>\n",
              "    <tr style=\"text-align: right;\">\n",
              "      <th></th>\n",
              "      <th>activity_comment</th>\n",
              "      <th>activity_id</th>\n",
              "      <th>activity_properties</th>\n",
              "      <th>assay_chembl_id</th>\n",
              "      <th>assay_description</th>\n",
              "      <th>assay_type</th>\n",
              "      <th>bao_endpoint</th>\n",
              "      <th>bao_format</th>\n",
              "      <th>bao_label</th>\n",
              "      <th>canonical_smiles</th>\n",
              "      <th>data_validity_comment</th>\n",
              "      <th>data_validity_description</th>\n",
              "      <th>document_chembl_id</th>\n",
              "      <th>document_journal</th>\n",
              "      <th>document_year</th>\n",
              "      <th>ligand_efficiency</th>\n",
              "      <th>molecule_chembl_id</th>\n",
              "      <th>molecule_pref_name</th>\n",
              "      <th>parent_molecule_chembl_id</th>\n",
              "      <th>pchembl_value</th>\n",
              "      <th>potential_duplicate</th>\n",
              "      <th>qudt_units</th>\n",
              "      <th>record_id</th>\n",
              "      <th>relation</th>\n",
              "      <th>src_id</th>\n",
              "      <th>standard_flag</th>\n",
              "      <th>standard_relation</th>\n",
              "      <th>standard_text_value</th>\n",
              "      <th>standard_type</th>\n",
              "      <th>standard_units</th>\n",
              "      <th>standard_upper_value</th>\n",
              "      <th>standard_value</th>\n",
              "      <th>target_chembl_id</th>\n",
              "      <th>target_organism</th>\n",
              "      <th>target_pref_name</th>\n",
              "      <th>target_tax_id</th>\n",
              "      <th>text_value</th>\n",
              "      <th>toid</th>\n",
              "      <th>type</th>\n",
              "      <th>units</th>\n",
              "      <th>uo_units</th>\n",
              "      <th>upper_value</th>\n",
              "      <th>value</th>\n",
              "    </tr>\n",
              "  </thead>\n",
              "  <tbody>\n",
              "    <tr>\n",
              "      <th>421</th>\n",
              "      <td>Active</td>\n",
              "      <td>17878374</td>\n",
              "      <td>[{'comments': None, 'relation': '=', 'result_f...</td>\n",
              "      <td>CHEMBL3991602</td>\n",
              "      <td>Kinobeads (epsilon), multiple immobilized ATP-...</td>\n",
              "      <td>B</td>\n",
              "      <td>BAO_0000179</td>\n",
              "      <td>BAO_0000220</td>\n",
              "      <td>subcellular format</td>\n",
              "      <td>CCS(=O)(=O)N1CC(CC#N)(n2cc(-c3ncnc4[nH]ccc34)c...</td>\n",
              "      <td>None</td>\n",
              "      <td>None</td>\n",
              "      <td>CHEMBL3991601</td>\n",
              "      <td>Science</td>\n",
              "      <td>2017</td>\n",
              "      <td>None</td>\n",
              "      <td>CHEMBL2105759</td>\n",
              "      <td>BARICITINIB</td>\n",
              "      <td>CHEMBL2105759</td>\n",
              "      <td>None</td>\n",
              "      <td>False</td>\n",
              "      <td>http://www.openphacts.org/units/Nanomolar</td>\n",
              "      <td>2973632</td>\n",
              "      <td>=</td>\n",
              "      <td>48</td>\n",
              "      <td>False</td>\n",
              "      <td>=</td>\n",
              "      <td>None</td>\n",
              "      <td>Kd apparent</td>\n",
              "      <td>nM</td>\n",
              "      <td>None</td>\n",
              "      <td>46.0</td>\n",
              "      <td>CHEMBL3830</td>\n",
              "      <td>Homo sapiens</td>\n",
              "      <td>Adaptor-associated kinase</td>\n",
              "      <td>9606</td>\n",
              "      <td>None</td>\n",
              "      <td>None</td>\n",
              "      <td>Kd apparent</td>\n",
              "      <td>nM</td>\n",
              "      <td>UO_0000065</td>\n",
              "      <td>None</td>\n",
              "      <td>46.0</td>\n",
              "    </tr>\n",
              "  </tbody>\n",
              "</table>\n",
              "</div>"
            ],
            "text/plain": [
              "    activity_comment  activity_id  ... upper_value value\n",
              "421           Active     17878374  ...        None  46.0\n",
              "\n",
              "[1 rows x 43 columns]"
            ]
          },
          "metadata": {
            "tags": []
          },
          "execution_count": 11
        }
      ]
    },
    {
      "cell_type": "code",
      "metadata": {
        "id": "gg_HRclwk6ah",
        "colab": {
          "base_uri": "https://localhost:8080/"
        },
        "outputId": "419aa1a7-04dc-4bd1-f792-d936106f6559"
      },
      "source": [
        "df_leads.standard_type.mode()"
      ],
      "execution_count": null,
      "outputs": [
        {
          "output_type": "execute_result",
          "data": {
            "text/plain": [
              "0    Kd apparent\n",
              "dtype: object"
            ]
          },
          "metadata": {
            "tags": []
          },
          "execution_count": 12
        }
      ]
    },
    {
      "cell_type": "markdown",
      "metadata": {
        "id": "S1Js6_amlE29"
      },
      "source": [
        "So the majority of the data in the database uses units of *apparent* $K_d$, the dissociation constant. Kd can be used to describe the affinity of a drug to a protein (how well they bind to form a ligand-protein complex).\n",
        "\n",
        "$K_d = \\frac{[Drug][Protein]}{[D-P]}$\n",
        "\n",
        "$K_d$ corresponds to the drug concentration required for 50% of the proteins to be inhibited at equilibrium. We will deem drugs with $K_d < 1000 nM$ as active and look out for those that are highly active $<10nm$."
      ]
    },
    {
      "cell_type": "code",
      "metadata": {
        "id": "WqGJZzYwe4yC",
        "colab": {
          "base_uri": "https://localhost:8080/"
        },
        "outputId": "4eb14d01-56e4-40a9-9fc3-2a7f9ee3f59b"
      },
      "source": [
        "kd_ld = bioactivity.filter(target_chembl_id=targets.target_chembl_id[0]).filter(standard_type='Kd apparent')\n",
        "df_kdld = pd.DataFrame(kd_ld)\n",
        "len(df_kdld)"
      ],
      "execution_count": null,
      "outputs": [
        {
          "output_type": "execute_result",
          "data": {
            "text/plain": [
              "243"
            ]
          },
          "metadata": {
            "tags": []
          },
          "execution_count": 13
        }
      ]
    },
    {
      "cell_type": "code",
      "metadata": {
        "id": "9o0ao-jVdLOP",
        "colab": {
          "base_uri": "https://localhost:8080/",
          "height": 760
        },
        "outputId": "fac04142-c5c9-48ab-8e03-55d9be27914e"
      },
      "source": [
        "# lets get rid of empty standard activity values or broken smiles & any duplicates and then reset the index\n",
        "# we reset the index as we will be adding bioactivity labels next and the index of the entry\n",
        "# and the label needs to match\n",
        "df_kdld2 = df_kdld[df_kdld.standard_value.notna()]\n",
        "df_kdld2 = df_kdld2[df_kdld2.canonical_smiles.notna()]\n",
        "cleanup = df_kdld2.drop_duplicates(subset='molecule_chembl_id', keep='last').reset_index()\n",
        "cleanup"
      ],
      "execution_count": null,
      "outputs": [
        {
          "output_type": "execute_result",
          "data": {
            "text/html": [
              "<div>\n",
              "<style scoped>\n",
              "    .dataframe tbody tr th:only-of-type {\n",
              "        vertical-align: middle;\n",
              "    }\n",
              "\n",
              "    .dataframe tbody tr th {\n",
              "        vertical-align: top;\n",
              "    }\n",
              "\n",
              "    .dataframe thead th {\n",
              "        text-align: right;\n",
              "    }\n",
              "</style>\n",
              "<table border=\"1\" class=\"dataframe\">\n",
              "  <thead>\n",
              "    <tr style=\"text-align: right;\">\n",
              "      <th></th>\n",
              "      <th>index</th>\n",
              "      <th>activity_comment</th>\n",
              "      <th>activity_id</th>\n",
              "      <th>activity_properties</th>\n",
              "      <th>assay_chembl_id</th>\n",
              "      <th>assay_description</th>\n",
              "      <th>assay_type</th>\n",
              "      <th>bao_endpoint</th>\n",
              "      <th>bao_format</th>\n",
              "      <th>bao_label</th>\n",
              "      <th>canonical_smiles</th>\n",
              "      <th>data_validity_comment</th>\n",
              "      <th>data_validity_description</th>\n",
              "      <th>document_chembl_id</th>\n",
              "      <th>document_journal</th>\n",
              "      <th>document_year</th>\n",
              "      <th>ligand_efficiency</th>\n",
              "      <th>molecule_chembl_id</th>\n",
              "      <th>molecule_pref_name</th>\n",
              "      <th>parent_molecule_chembl_id</th>\n",
              "      <th>pchembl_value</th>\n",
              "      <th>potential_duplicate</th>\n",
              "      <th>qudt_units</th>\n",
              "      <th>record_id</th>\n",
              "      <th>relation</th>\n",
              "      <th>src_id</th>\n",
              "      <th>standard_flag</th>\n",
              "      <th>standard_relation</th>\n",
              "      <th>standard_text_value</th>\n",
              "      <th>standard_type</th>\n",
              "      <th>standard_units</th>\n",
              "      <th>standard_upper_value</th>\n",
              "      <th>standard_value</th>\n",
              "      <th>target_chembl_id</th>\n",
              "      <th>target_organism</th>\n",
              "      <th>target_pref_name</th>\n",
              "      <th>target_tax_id</th>\n",
              "      <th>text_value</th>\n",
              "      <th>toid</th>\n",
              "      <th>type</th>\n",
              "      <th>units</th>\n",
              "      <th>uo_units</th>\n",
              "      <th>upper_value</th>\n",
              "      <th>value</th>\n",
              "    </tr>\n",
              "  </thead>\n",
              "  <tbody>\n",
              "    <tr>\n",
              "      <th>0</th>\n",
              "      <td>0</td>\n",
              "      <td>Active</td>\n",
              "      <td>17878157</td>\n",
              "      <td>[{'comments': None, 'relation': '=', 'result_f...</td>\n",
              "      <td>CHEMBL3991602</td>\n",
              "      <td>Kinobeads (epsilon), multiple immobilized ATP-...</td>\n",
              "      <td>B</td>\n",
              "      <td>BAO_0000179</td>\n",
              "      <td>BAO_0000220</td>\n",
              "      <td>subcellular format</td>\n",
              "      <td>CCN1CCN(Cc2ccc(Nc3ncc(F)c(-c4cc(F)c5nc(C)n(C(C...</td>\n",
              "      <td>None</td>\n",
              "      <td>None</td>\n",
              "      <td>CHEMBL3991601</td>\n",
              "      <td>Science</td>\n",
              "      <td>2017</td>\n",
              "      <td>None</td>\n",
              "      <td>CHEMBL3301610</td>\n",
              "      <td>ABEMACICLIB</td>\n",
              "      <td>CHEMBL3301610</td>\n",
              "      <td>None</td>\n",
              "      <td>False</td>\n",
              "      <td>http://www.openphacts.org/units/Nanomolar</td>\n",
              "      <td>2973415</td>\n",
              "      <td>=</td>\n",
              "      <td>48</td>\n",
              "      <td>False</td>\n",
              "      <td>=</td>\n",
              "      <td>None</td>\n",
              "      <td>Kd apparent</td>\n",
              "      <td>nM</td>\n",
              "      <td>None</td>\n",
              "      <td>102.0</td>\n",
              "      <td>CHEMBL3830</td>\n",
              "      <td>Homo sapiens</td>\n",
              "      <td>Adaptor-associated kinase</td>\n",
              "      <td>9606</td>\n",
              "      <td>None</td>\n",
              "      <td>None</td>\n",
              "      <td>Kd apparent</td>\n",
              "      <td>nM</td>\n",
              "      <td>UO_0000065</td>\n",
              "      <td>None</td>\n",
              "      <td>102.0</td>\n",
              "    </tr>\n",
              "    <tr>\n",
              "      <th>1</th>\n",
              "      <td>1</td>\n",
              "      <td>Inactive</td>\n",
              "      <td>17878158</td>\n",
              "      <td>[]</td>\n",
              "      <td>CHEMBL3991602</td>\n",
              "      <td>Kinobeads (epsilon), multiple immobilized ATP-...</td>\n",
              "      <td>B</td>\n",
              "      <td>BAO_0000179</td>\n",
              "      <td>BAO_0000220</td>\n",
              "      <td>subcellular format</td>\n",
              "      <td>CNC(=O)c1cccc2cc(Oc3ccnc4cc(OCC5(N)CC5)c(OC)cc...</td>\n",
              "      <td>None</td>\n",
              "      <td>None</td>\n",
              "      <td>CHEMBL3991601</td>\n",
              "      <td>Science</td>\n",
              "      <td>2017</td>\n",
              "      <td>None</td>\n",
              "      <td>CHEMBL2220486</td>\n",
              "      <td>LUCITANIB</td>\n",
              "      <td>CHEMBL2220486</td>\n",
              "      <td>None</td>\n",
              "      <td>False</td>\n",
              "      <td>http://www.openphacts.org/units/Nanomolar</td>\n",
              "      <td>2973416</td>\n",
              "      <td>&gt;</td>\n",
              "      <td>48</td>\n",
              "      <td>False</td>\n",
              "      <td>&gt;</td>\n",
              "      <td>None</td>\n",
              "      <td>Kd apparent</td>\n",
              "      <td>nM</td>\n",
              "      <td>None</td>\n",
              "      <td>30000.0</td>\n",
              "      <td>CHEMBL3830</td>\n",
              "      <td>Homo sapiens</td>\n",
              "      <td>Adaptor-associated kinase</td>\n",
              "      <td>9606</td>\n",
              "      <td>None</td>\n",
              "      <td>None</td>\n",
              "      <td>Kd apparent</td>\n",
              "      <td>nM</td>\n",
              "      <td>UO_0000065</td>\n",
              "      <td>None</td>\n",
              "      <td>30000.0</td>\n",
              "    </tr>\n",
              "    <tr>\n",
              "      <th>2</th>\n",
              "      <td>2</td>\n",
              "      <td>Active</td>\n",
              "      <td>17878159</td>\n",
              "      <td>[{'comments': None, 'relation': '=', 'result_f...</td>\n",
              "      <td>CHEMBL3991602</td>\n",
              "      <td>Kinobeads (epsilon), multiple immobilized ATP-...</td>\n",
              "      <td>B</td>\n",
              "      <td>BAO_0000179</td>\n",
              "      <td>BAO_0000220</td>\n",
              "      <td>subcellular format</td>\n",
              "      <td>CCN(CC)CCNC(=O)c1c(C)[nH]c(/C=C2\\C(=O)Nc3ccc(F...</td>\n",
              "      <td>None</td>\n",
              "      <td>None</td>\n",
              "      <td>CHEMBL3991601</td>\n",
              "      <td>Science</td>\n",
              "      <td>2017</td>\n",
              "      <td>None</td>\n",
              "      <td>CHEMBL535</td>\n",
              "      <td>SUNITINIB</td>\n",
              "      <td>CHEMBL535</td>\n",
              "      <td>None</td>\n",
              "      <td>False</td>\n",
              "      <td>http://www.openphacts.org/units/Nanomolar</td>\n",
              "      <td>2973417</td>\n",
              "      <td>=</td>\n",
              "      <td>48</td>\n",
              "      <td>False</td>\n",
              "      <td>=</td>\n",
              "      <td>None</td>\n",
              "      <td>Kd apparent</td>\n",
              "      <td>nM</td>\n",
              "      <td>None</td>\n",
              "      <td>363.0</td>\n",
              "      <td>CHEMBL3830</td>\n",
              "      <td>Homo sapiens</td>\n",
              "      <td>Adaptor-associated kinase</td>\n",
              "      <td>9606</td>\n",
              "      <td>None</td>\n",
              "      <td>None</td>\n",
              "      <td>Kd apparent</td>\n",
              "      <td>nM</td>\n",
              "      <td>UO_0000065</td>\n",
              "      <td>None</td>\n",
              "      <td>363.0</td>\n",
              "    </tr>\n",
              "    <tr>\n",
              "      <th>3</th>\n",
              "      <td>3</td>\n",
              "      <td>Inactive</td>\n",
              "      <td>17878160</td>\n",
              "      <td>[]</td>\n",
              "      <td>CHEMBL3991602</td>\n",
              "      <td>Kinobeads (epsilon), multiple immobilized ATP-...</td>\n",
              "      <td>B</td>\n",
              "      <td>BAO_0000179</td>\n",
              "      <td>BAO_0000220</td>\n",
              "      <td>subcellular format</td>\n",
              "      <td>NC(=O)c1c(OCc2c(F)cc(Br)cc2F)nsc1NC(=O)NCCCCN1...</td>\n",
              "      <td>None</td>\n",
              "      <td>None</td>\n",
              "      <td>CHEMBL3991601</td>\n",
              "      <td>Science</td>\n",
              "      <td>2017</td>\n",
              "      <td>None</td>\n",
              "      <td>CHEMBL253969</td>\n",
              "      <td>OSI-632</td>\n",
              "      <td>CHEMBL253969</td>\n",
              "      <td>None</td>\n",
              "      <td>False</td>\n",
              "      <td>http://www.openphacts.org/units/Nanomolar</td>\n",
              "      <td>2973418</td>\n",
              "      <td>&gt;</td>\n",
              "      <td>48</td>\n",
              "      <td>False</td>\n",
              "      <td>&gt;</td>\n",
              "      <td>None</td>\n",
              "      <td>Kd apparent</td>\n",
              "      <td>nM</td>\n",
              "      <td>None</td>\n",
              "      <td>30000.0</td>\n",
              "      <td>CHEMBL3830</td>\n",
              "      <td>Homo sapiens</td>\n",
              "      <td>Adaptor-associated kinase</td>\n",
              "      <td>9606</td>\n",
              "      <td>None</td>\n",
              "      <td>None</td>\n",
              "      <td>Kd apparent</td>\n",
              "      <td>nM</td>\n",
              "      <td>UO_0000065</td>\n",
              "      <td>None</td>\n",
              "      <td>30000.0</td>\n",
              "    </tr>\n",
              "    <tr>\n",
              "      <th>4</th>\n",
              "      <td>4</td>\n",
              "      <td>Inactive</td>\n",
              "      <td>17878161</td>\n",
              "      <td>[]</td>\n",
              "      <td>CHEMBL3991602</td>\n",
              "      <td>Kinobeads (epsilon), multiple immobilized ATP-...</td>\n",
              "      <td>B</td>\n",
              "      <td>BAO_0000179</td>\n",
              "      <td>BAO_0000220</td>\n",
              "      <td>subcellular format</td>\n",
              "      <td>C#Cc1cccc(Nc2ncnc3cc4c(cc23)OCCOCCOCCO4)c1</td>\n",
              "      <td>None</td>\n",
              "      <td>None</td>\n",
              "      <td>CHEMBL3991601</td>\n",
              "      <td>Science</td>\n",
              "      <td>2017</td>\n",
              "      <td>None</td>\n",
              "      <td>CHEMBL2087361</td>\n",
              "      <td>ICOTINIB</td>\n",
              "      <td>CHEMBL2087361</td>\n",
              "      <td>None</td>\n",
              "      <td>False</td>\n",
              "      <td>http://www.openphacts.org/units/Nanomolar</td>\n",
              "      <td>2973419</td>\n",
              "      <td>&gt;</td>\n",
              "      <td>48</td>\n",
              "      <td>False</td>\n",
              "      <td>&gt;</td>\n",
              "      <td>None</td>\n",
              "      <td>Kd apparent</td>\n",
              "      <td>nM</td>\n",
              "      <td>None</td>\n",
              "      <td>30000.0</td>\n",
              "      <td>CHEMBL3830</td>\n",
              "      <td>Homo sapiens</td>\n",
              "      <td>Adaptor-associated kinase</td>\n",
              "      <td>9606</td>\n",
              "      <td>None</td>\n",
              "      <td>None</td>\n",
              "      <td>Kd apparent</td>\n",
              "      <td>nM</td>\n",
              "      <td>UO_0000065</td>\n",
              "      <td>None</td>\n",
              "      <td>30000.0</td>\n",
              "    </tr>\n",
              "    <tr>\n",
              "      <th>...</th>\n",
              "      <td>...</td>\n",
              "      <td>...</td>\n",
              "      <td>...</td>\n",
              "      <td>...</td>\n",
              "      <td>...</td>\n",
              "      <td>...</td>\n",
              "      <td>...</td>\n",
              "      <td>...</td>\n",
              "      <td>...</td>\n",
              "      <td>...</td>\n",
              "      <td>...</td>\n",
              "      <td>...</td>\n",
              "      <td>...</td>\n",
              "      <td>...</td>\n",
              "      <td>...</td>\n",
              "      <td>...</td>\n",
              "      <td>...</td>\n",
              "      <td>...</td>\n",
              "      <td>...</td>\n",
              "      <td>...</td>\n",
              "      <td>...</td>\n",
              "      <td>...</td>\n",
              "      <td>...</td>\n",
              "      <td>...</td>\n",
              "      <td>...</td>\n",
              "      <td>...</td>\n",
              "      <td>...</td>\n",
              "      <td>...</td>\n",
              "      <td>...</td>\n",
              "      <td>...</td>\n",
              "      <td>...</td>\n",
              "      <td>...</td>\n",
              "      <td>...</td>\n",
              "      <td>...</td>\n",
              "      <td>...</td>\n",
              "      <td>...</td>\n",
              "      <td>...</td>\n",
              "      <td>...</td>\n",
              "      <td>...</td>\n",
              "      <td>...</td>\n",
              "      <td>...</td>\n",
              "      <td>...</td>\n",
              "      <td>...</td>\n",
              "      <td>...</td>\n",
              "    </tr>\n",
              "    <tr>\n",
              "      <th>237</th>\n",
              "      <td>238</td>\n",
              "      <td>Inactive</td>\n",
              "      <td>17878395</td>\n",
              "      <td>[]</td>\n",
              "      <td>CHEMBL3991602</td>\n",
              "      <td>Kinobeads (epsilon), multiple immobilized ATP-...</td>\n",
              "      <td>B</td>\n",
              "      <td>BAO_0000179</td>\n",
              "      <td>BAO_0000220</td>\n",
              "      <td>subcellular format</td>\n",
              "      <td>O=S(=O)(c1cccc2cnccc12)N1CCCNCC1</td>\n",
              "      <td>None</td>\n",
              "      <td>None</td>\n",
              "      <td>CHEMBL3991601</td>\n",
              "      <td>Science</td>\n",
              "      <td>2017</td>\n",
              "      <td>None</td>\n",
              "      <td>CHEMBL38380</td>\n",
              "      <td>FASUDIL</td>\n",
              "      <td>CHEMBL38380</td>\n",
              "      <td>None</td>\n",
              "      <td>False</td>\n",
              "      <td>http://www.openphacts.org/units/Nanomolar</td>\n",
              "      <td>2973653</td>\n",
              "      <td>&gt;</td>\n",
              "      <td>48</td>\n",
              "      <td>False</td>\n",
              "      <td>&gt;</td>\n",
              "      <td>None</td>\n",
              "      <td>Kd apparent</td>\n",
              "      <td>nM</td>\n",
              "      <td>None</td>\n",
              "      <td>30000.0</td>\n",
              "      <td>CHEMBL3830</td>\n",
              "      <td>Homo sapiens</td>\n",
              "      <td>Adaptor-associated kinase</td>\n",
              "      <td>9606</td>\n",
              "      <td>None</td>\n",
              "      <td>None</td>\n",
              "      <td>Kd apparent</td>\n",
              "      <td>nM</td>\n",
              "      <td>UO_0000065</td>\n",
              "      <td>None</td>\n",
              "      <td>30000.0</td>\n",
              "    </tr>\n",
              "    <tr>\n",
              "      <th>238</th>\n",
              "      <td>239</td>\n",
              "      <td>Inactive</td>\n",
              "      <td>17878396</td>\n",
              "      <td>[]</td>\n",
              "      <td>CHEMBL3991602</td>\n",
              "      <td>Kinobeads (epsilon), multiple immobilized ATP-...</td>\n",
              "      <td>B</td>\n",
              "      <td>BAO_0000179</td>\n",
              "      <td>BAO_0000220</td>\n",
              "      <td>subcellular format</td>\n",
              "      <td>COc1cc(Nc2ncc(F)c(Nc3ccc4c(n3)N(COP(=O)(O)O)C(...</td>\n",
              "      <td>None</td>\n",
              "      <td>None</td>\n",
              "      <td>CHEMBL3991601</td>\n",
              "      <td>Science</td>\n",
              "      <td>2017</td>\n",
              "      <td>None</td>\n",
              "      <td>CHEMBL2103830</td>\n",
              "      <td>FOSTAMATINIB</td>\n",
              "      <td>CHEMBL2103830</td>\n",
              "      <td>None</td>\n",
              "      <td>False</td>\n",
              "      <td>http://www.openphacts.org/units/Nanomolar</td>\n",
              "      <td>2973654</td>\n",
              "      <td>&gt;</td>\n",
              "      <td>48</td>\n",
              "      <td>False</td>\n",
              "      <td>&gt;</td>\n",
              "      <td>None</td>\n",
              "      <td>Kd apparent</td>\n",
              "      <td>nM</td>\n",
              "      <td>None</td>\n",
              "      <td>30000.0</td>\n",
              "      <td>CHEMBL3830</td>\n",
              "      <td>Homo sapiens</td>\n",
              "      <td>Adaptor-associated kinase</td>\n",
              "      <td>9606</td>\n",
              "      <td>None</td>\n",
              "      <td>None</td>\n",
              "      <td>Kd apparent</td>\n",
              "      <td>nM</td>\n",
              "      <td>UO_0000065</td>\n",
              "      <td>None</td>\n",
              "      <td>30000.0</td>\n",
              "    </tr>\n",
              "    <tr>\n",
              "      <th>239</th>\n",
              "      <td>240</td>\n",
              "      <td>Inactive</td>\n",
              "      <td>17878397</td>\n",
              "      <td>[]</td>\n",
              "      <td>CHEMBL3991602</td>\n",
              "      <td>Kinobeads (epsilon), multiple immobilized ATP-...</td>\n",
              "      <td>B</td>\n",
              "      <td>BAO_0000179</td>\n",
              "      <td>BAO_0000220</td>\n",
              "      <td>subcellular format</td>\n",
              "      <td>O=C1NC(=O)[C@@H](c2cn3c4c(cccc24)CCC3)[C@@H]1c...</td>\n",
              "      <td>None</td>\n",
              "      <td>None</td>\n",
              "      <td>CHEMBL3991601</td>\n",
              "      <td>Science</td>\n",
              "      <td>2017</td>\n",
              "      <td>None</td>\n",
              "      <td>CHEMBL2103882</td>\n",
              "      <td>TIVANTINIB</td>\n",
              "      <td>CHEMBL2103882</td>\n",
              "      <td>None</td>\n",
              "      <td>False</td>\n",
              "      <td>http://www.openphacts.org/units/Nanomolar</td>\n",
              "      <td>2973655</td>\n",
              "      <td>&gt;</td>\n",
              "      <td>48</td>\n",
              "      <td>False</td>\n",
              "      <td>&gt;</td>\n",
              "      <td>None</td>\n",
              "      <td>Kd apparent</td>\n",
              "      <td>nM</td>\n",
              "      <td>None</td>\n",
              "      <td>30000.0</td>\n",
              "      <td>CHEMBL3830</td>\n",
              "      <td>Homo sapiens</td>\n",
              "      <td>Adaptor-associated kinase</td>\n",
              "      <td>9606</td>\n",
              "      <td>None</td>\n",
              "      <td>None</td>\n",
              "      <td>Kd apparent</td>\n",
              "      <td>nM</td>\n",
              "      <td>UO_0000065</td>\n",
              "      <td>None</td>\n",
              "      <td>30000.0</td>\n",
              "    </tr>\n",
              "    <tr>\n",
              "      <th>240</th>\n",
              "      <td>241</td>\n",
              "      <td>Active</td>\n",
              "      <td>17878398</td>\n",
              "      <td>[{'comments': None, 'relation': '=', 'result_f...</td>\n",
              "      <td>CHEMBL3991602</td>\n",
              "      <td>Kinobeads (epsilon), multiple immobilized ATP-...</td>\n",
              "      <td>B</td>\n",
              "      <td>BAO_0000179</td>\n",
              "      <td>BAO_0000220</td>\n",
              "      <td>subcellular format</td>\n",
              "      <td>CNC(=O)c1ccccc1Sc1ccc2c(/C=C/c3ccccn3)n[nH]c2c1</td>\n",
              "      <td>None</td>\n",
              "      <td>None</td>\n",
              "      <td>CHEMBL3991601</td>\n",
              "      <td>Science</td>\n",
              "      <td>2017</td>\n",
              "      <td>None</td>\n",
              "      <td>CHEMBL1289926</td>\n",
              "      <td>AXITINIB</td>\n",
              "      <td>CHEMBL1289926</td>\n",
              "      <td>None</td>\n",
              "      <td>False</td>\n",
              "      <td>http://www.openphacts.org/units/Nanomolar</td>\n",
              "      <td>2973656</td>\n",
              "      <td>=</td>\n",
              "      <td>48</td>\n",
              "      <td>False</td>\n",
              "      <td>=</td>\n",
              "      <td>None</td>\n",
              "      <td>Kd apparent</td>\n",
              "      <td>nM</td>\n",
              "      <td>None</td>\n",
              "      <td>2159.0</td>\n",
              "      <td>CHEMBL3830</td>\n",
              "      <td>Homo sapiens</td>\n",
              "      <td>Adaptor-associated kinase</td>\n",
              "      <td>9606</td>\n",
              "      <td>None</td>\n",
              "      <td>None</td>\n",
              "      <td>Kd apparent</td>\n",
              "      <td>nM</td>\n",
              "      <td>UO_0000065</td>\n",
              "      <td>None</td>\n",
              "      <td>2159.0</td>\n",
              "    </tr>\n",
              "    <tr>\n",
              "      <th>241</th>\n",
              "      <td>242</td>\n",
              "      <td>Inactive</td>\n",
              "      <td>17878399</td>\n",
              "      <td>[]</td>\n",
              "      <td>CHEMBL3991602</td>\n",
              "      <td>Kinobeads (epsilon), multiple immobilized ATP-...</td>\n",
              "      <td>B</td>\n",
              "      <td>BAO_0000179</td>\n",
              "      <td>BAO_0000220</td>\n",
              "      <td>subcellular format</td>\n",
              "      <td>CNC(=O)c1cc(Oc2ccc(NC(=O)Nc3ccc(Cl)c(C(F)(F)F)...</td>\n",
              "      <td>None</td>\n",
              "      <td>None</td>\n",
              "      <td>CHEMBL3991601</td>\n",
              "      <td>Science</td>\n",
              "      <td>2017</td>\n",
              "      <td>None</td>\n",
              "      <td>CHEMBL1946170</td>\n",
              "      <td>REGORAFENIB</td>\n",
              "      <td>CHEMBL1946170</td>\n",
              "      <td>None</td>\n",
              "      <td>False</td>\n",
              "      <td>http://www.openphacts.org/units/Nanomolar</td>\n",
              "      <td>2973657</td>\n",
              "      <td>&gt;</td>\n",
              "      <td>48</td>\n",
              "      <td>False</td>\n",
              "      <td>&gt;</td>\n",
              "      <td>None</td>\n",
              "      <td>Kd apparent</td>\n",
              "      <td>nM</td>\n",
              "      <td>None</td>\n",
              "      <td>30000.0</td>\n",
              "      <td>CHEMBL3830</td>\n",
              "      <td>Homo sapiens</td>\n",
              "      <td>Adaptor-associated kinase</td>\n",
              "      <td>9606</td>\n",
              "      <td>None</td>\n",
              "      <td>None</td>\n",
              "      <td>Kd apparent</td>\n",
              "      <td>nM</td>\n",
              "      <td>UO_0000065</td>\n",
              "      <td>None</td>\n",
              "      <td>30000.0</td>\n",
              "    </tr>\n",
              "  </tbody>\n",
              "</table>\n",
              "<p>242 rows × 44 columns</p>\n",
              "</div>"
            ],
            "text/plain": [
              "     index activity_comment  activity_id  ...    uo_units upper_value    value\n",
              "0        0           Active     17878157  ...  UO_0000065        None    102.0\n",
              "1        1         Inactive     17878158  ...  UO_0000065        None  30000.0\n",
              "2        2           Active     17878159  ...  UO_0000065        None    363.0\n",
              "3        3         Inactive     17878160  ...  UO_0000065        None  30000.0\n",
              "4        4         Inactive     17878161  ...  UO_0000065        None  30000.0\n",
              "..     ...              ...          ...  ...         ...         ...      ...\n",
              "237    238         Inactive     17878395  ...  UO_0000065        None  30000.0\n",
              "238    239         Inactive     17878396  ...  UO_0000065        None  30000.0\n",
              "239    240         Inactive     17878397  ...  UO_0000065        None  30000.0\n",
              "240    241           Active     17878398  ...  UO_0000065        None   2159.0\n",
              "241    242         Inactive     17878399  ...  UO_0000065        None  30000.0\n",
              "\n",
              "[242 rows x 44 columns]"
            ]
          },
          "metadata": {
            "tags": []
          },
          "execution_count": 14
        }
      ]
    },
    {
      "cell_type": "code",
      "metadata": {
        "id": "dZuMdNWiq38w",
        "colab": {
          "base_uri": "https://localhost:8080/"
        },
        "outputId": "273bdd96-c43b-4cec-d1f3-f7a9a206d5f8"
      },
      "source": [
        "len(cleanup)"
      ],
      "execution_count": null,
      "outputs": [
        {
          "output_type": "execute_result",
          "data": {
            "text/plain": [
              "242"
            ]
          },
          "metadata": {
            "tags": []
          },
          "execution_count": 15
        }
      ]
    },
    {
      "cell_type": "code",
      "metadata": {
        "id": "y9vyQXDTgxLV",
        "colab": {
          "base_uri": "https://localhost:8080/"
        },
        "outputId": "8728809d-87a9-4984-e56d-e8985507c45e"
      },
      "source": [
        "cleanup.standard_value.describe()"
      ],
      "execution_count": null,
      "outputs": [
        {
          "output_type": "execute_result",
          "data": {
            "text/plain": [
              "count         242\n",
              "unique         50\n",
              "top       30000.0\n",
              "freq          192\n",
              "Name: standard_value, dtype: object"
            ]
          },
          "metadata": {
            "tags": []
          },
          "execution_count": 16
        }
      ]
    },
    {
      "cell_type": "markdown",
      "metadata": {
        "id": "QpcqmIwF0pd4"
      },
      "source": [
        "## **Some pre-processing and saving of the data**"
      ]
    },
    {
      "cell_type": "markdown",
      "metadata": {
        "id": "l0asO2sE0384"
      },
      "source": [
        "Let's take the most important columns for this analysis"
      ]
    },
    {
      "cell_type": "code",
      "metadata": {
        "id": "nv4mGeVFq6FM",
        "colab": {
          "base_uri": "https://localhost:8080/",
          "height": 197
        },
        "outputId": "cc5a7e64-a14f-42a0-83ca-bb357cc5fd25"
      },
      "source": [
        "df_kdld3 = cleanup[['molecule_pref_name','molecule_chembl_id','canonical_smiles','standard_value']]\n",
        "df_kdld3.head()"
      ],
      "execution_count": null,
      "outputs": [
        {
          "output_type": "execute_result",
          "data": {
            "text/html": [
              "<div>\n",
              "<style scoped>\n",
              "    .dataframe tbody tr th:only-of-type {\n",
              "        vertical-align: middle;\n",
              "    }\n",
              "\n",
              "    .dataframe tbody tr th {\n",
              "        vertical-align: top;\n",
              "    }\n",
              "\n",
              "    .dataframe thead th {\n",
              "        text-align: right;\n",
              "    }\n",
              "</style>\n",
              "<table border=\"1\" class=\"dataframe\">\n",
              "  <thead>\n",
              "    <tr style=\"text-align: right;\">\n",
              "      <th></th>\n",
              "      <th>molecule_pref_name</th>\n",
              "      <th>molecule_chembl_id</th>\n",
              "      <th>canonical_smiles</th>\n",
              "      <th>standard_value</th>\n",
              "    </tr>\n",
              "  </thead>\n",
              "  <tbody>\n",
              "    <tr>\n",
              "      <th>0</th>\n",
              "      <td>ABEMACICLIB</td>\n",
              "      <td>CHEMBL3301610</td>\n",
              "      <td>CCN1CCN(Cc2ccc(Nc3ncc(F)c(-c4cc(F)c5nc(C)n(C(C...</td>\n",
              "      <td>102.0</td>\n",
              "    </tr>\n",
              "    <tr>\n",
              "      <th>1</th>\n",
              "      <td>LUCITANIB</td>\n",
              "      <td>CHEMBL2220486</td>\n",
              "      <td>CNC(=O)c1cccc2cc(Oc3ccnc4cc(OCC5(N)CC5)c(OC)cc...</td>\n",
              "      <td>30000.0</td>\n",
              "    </tr>\n",
              "    <tr>\n",
              "      <th>2</th>\n",
              "      <td>SUNITINIB</td>\n",
              "      <td>CHEMBL535</td>\n",
              "      <td>CCN(CC)CCNC(=O)c1c(C)[nH]c(/C=C2\\C(=O)Nc3ccc(F...</td>\n",
              "      <td>363.0</td>\n",
              "    </tr>\n",
              "    <tr>\n",
              "      <th>3</th>\n",
              "      <td>OSI-632</td>\n",
              "      <td>CHEMBL253969</td>\n",
              "      <td>NC(=O)c1c(OCc2c(F)cc(Br)cc2F)nsc1NC(=O)NCCCCN1...</td>\n",
              "      <td>30000.0</td>\n",
              "    </tr>\n",
              "    <tr>\n",
              "      <th>4</th>\n",
              "      <td>ICOTINIB</td>\n",
              "      <td>CHEMBL2087361</td>\n",
              "      <td>C#Cc1cccc(Nc2ncnc3cc4c(cc23)OCCOCCOCCO4)c1</td>\n",
              "      <td>30000.0</td>\n",
              "    </tr>\n",
              "  </tbody>\n",
              "</table>\n",
              "</div>"
            ],
            "text/plain": [
              "  molecule_pref_name  ... standard_value\n",
              "0        ABEMACICLIB  ...          102.0\n",
              "1          LUCITANIB  ...        30000.0\n",
              "2          SUNITINIB  ...          363.0\n",
              "3            OSI-632  ...        30000.0\n",
              "4           ICOTINIB  ...        30000.0\n",
              "\n",
              "[5 rows x 4 columns]"
            ]
          },
          "metadata": {
            "tags": []
          },
          "execution_count": 17
        }
      ]
    },
    {
      "cell_type": "code",
      "metadata": {
        "id": "px49KqYG6V62",
        "colab": {
          "base_uri": "https://localhost:8080/"
        },
        "outputId": "b6c34c24-8c03-4ff0-9950-2c86a635ea5a"
      },
      "source": [
        "len(df_kdld3)"
      ],
      "execution_count": null,
      "outputs": [
        {
          "output_type": "execute_result",
          "data": {
            "text/plain": [
              "242"
            ]
          },
          "metadata": {
            "tags": []
          },
          "execution_count": 18
        }
      ]
    },
    {
      "cell_type": "code",
      "metadata": {
        "id": "eDn6rU_H1Gx7"
      },
      "source": [
        "activity_list = []\n",
        "for i in df_kdld3.standard_value:\n",
        "  if 10 < float(i) <= 1000:\n",
        "    activity_list.append(\"active\")\n",
        "  elif float(i) <= 10:\n",
        "    activity_list.append(\"highly active\")\n",
        "  elif float(i) >= 10000:\n",
        "    activity_list.append(\"inactive\")\n",
        "#  else:\n",
        "  elif 1000 < float(i) < 10000:\n",
        "    activity_list.append(\"intermediate activity\")"
      ],
      "execution_count": null,
      "outputs": []
    },
    {
      "cell_type": "code",
      "metadata": {
        "id": "r0wciTOR3ZYI",
        "colab": {
          "base_uri": "https://localhost:8080/"
        },
        "outputId": "991d53dc-e199-49e5-8b89-60a83c4b1312"
      },
      "source": [
        "df_act = pd.Series(activity_list, name='bioactivity')\n",
        "len(df_act)"
      ],
      "execution_count": null,
      "outputs": [
        {
          "output_type": "execute_result",
          "data": {
            "text/plain": [
              "242"
            ]
          },
          "metadata": {
            "tags": []
          },
          "execution_count": 20
        }
      ]
    },
    {
      "cell_type": "code",
      "metadata": {
        "id": "6UGehCg34CoT",
        "colab": {
          "base_uri": "https://localhost:8080/",
          "height": 406
        },
        "outputId": "1e5eabec-ea80-40e7-e3af-38ec0b71187a"
      },
      "source": [
        "df_data = pd.concat([df_kdld3, df_act], axis=1)\n",
        "df_data"
      ],
      "execution_count": null,
      "outputs": [
        {
          "output_type": "execute_result",
          "data": {
            "text/html": [
              "<div>\n",
              "<style scoped>\n",
              "    .dataframe tbody tr th:only-of-type {\n",
              "        vertical-align: middle;\n",
              "    }\n",
              "\n",
              "    .dataframe tbody tr th {\n",
              "        vertical-align: top;\n",
              "    }\n",
              "\n",
              "    .dataframe thead th {\n",
              "        text-align: right;\n",
              "    }\n",
              "</style>\n",
              "<table border=\"1\" class=\"dataframe\">\n",
              "  <thead>\n",
              "    <tr style=\"text-align: right;\">\n",
              "      <th></th>\n",
              "      <th>molecule_pref_name</th>\n",
              "      <th>molecule_chembl_id</th>\n",
              "      <th>canonical_smiles</th>\n",
              "      <th>standard_value</th>\n",
              "      <th>bioactivity</th>\n",
              "    </tr>\n",
              "  </thead>\n",
              "  <tbody>\n",
              "    <tr>\n",
              "      <th>0</th>\n",
              "      <td>ABEMACICLIB</td>\n",
              "      <td>CHEMBL3301610</td>\n",
              "      <td>CCN1CCN(Cc2ccc(Nc3ncc(F)c(-c4cc(F)c5nc(C)n(C(C...</td>\n",
              "      <td>102.0</td>\n",
              "      <td>active</td>\n",
              "    </tr>\n",
              "    <tr>\n",
              "      <th>1</th>\n",
              "      <td>LUCITANIB</td>\n",
              "      <td>CHEMBL2220486</td>\n",
              "      <td>CNC(=O)c1cccc2cc(Oc3ccnc4cc(OCC5(N)CC5)c(OC)cc...</td>\n",
              "      <td>30000.0</td>\n",
              "      <td>inactive</td>\n",
              "    </tr>\n",
              "    <tr>\n",
              "      <th>2</th>\n",
              "      <td>SUNITINIB</td>\n",
              "      <td>CHEMBL535</td>\n",
              "      <td>CCN(CC)CCNC(=O)c1c(C)[nH]c(/C=C2\\C(=O)Nc3ccc(F...</td>\n",
              "      <td>363.0</td>\n",
              "      <td>active</td>\n",
              "    </tr>\n",
              "    <tr>\n",
              "      <th>3</th>\n",
              "      <td>OSI-632</td>\n",
              "      <td>CHEMBL253969</td>\n",
              "      <td>NC(=O)c1c(OCc2c(F)cc(Br)cc2F)nsc1NC(=O)NCCCCN1...</td>\n",
              "      <td>30000.0</td>\n",
              "      <td>inactive</td>\n",
              "    </tr>\n",
              "    <tr>\n",
              "      <th>4</th>\n",
              "      <td>ICOTINIB</td>\n",
              "      <td>CHEMBL2087361</td>\n",
              "      <td>C#Cc1cccc(Nc2ncnc3cc4c(cc23)OCCOCCOCCO4)c1</td>\n",
              "      <td>30000.0</td>\n",
              "      <td>inactive</td>\n",
              "    </tr>\n",
              "    <tr>\n",
              "      <th>...</th>\n",
              "      <td>...</td>\n",
              "      <td>...</td>\n",
              "      <td>...</td>\n",
              "      <td>...</td>\n",
              "      <td>...</td>\n",
              "    </tr>\n",
              "    <tr>\n",
              "      <th>237</th>\n",
              "      <td>FASUDIL</td>\n",
              "      <td>CHEMBL38380</td>\n",
              "      <td>O=S(=O)(c1cccc2cnccc12)N1CCCNCC1</td>\n",
              "      <td>30000.0</td>\n",
              "      <td>inactive</td>\n",
              "    </tr>\n",
              "    <tr>\n",
              "      <th>238</th>\n",
              "      <td>FOSTAMATINIB</td>\n",
              "      <td>CHEMBL2103830</td>\n",
              "      <td>COc1cc(Nc2ncc(F)c(Nc3ccc4c(n3)N(COP(=O)(O)O)C(...</td>\n",
              "      <td>30000.0</td>\n",
              "      <td>inactive</td>\n",
              "    </tr>\n",
              "    <tr>\n",
              "      <th>239</th>\n",
              "      <td>TIVANTINIB</td>\n",
              "      <td>CHEMBL2103882</td>\n",
              "      <td>O=C1NC(=O)[C@@H](c2cn3c4c(cccc24)CCC3)[C@@H]1c...</td>\n",
              "      <td>30000.0</td>\n",
              "      <td>inactive</td>\n",
              "    </tr>\n",
              "    <tr>\n",
              "      <th>240</th>\n",
              "      <td>AXITINIB</td>\n",
              "      <td>CHEMBL1289926</td>\n",
              "      <td>CNC(=O)c1ccccc1Sc1ccc2c(/C=C/c3ccccn3)n[nH]c2c1</td>\n",
              "      <td>2159.0</td>\n",
              "      <td>intermediate activity</td>\n",
              "    </tr>\n",
              "    <tr>\n",
              "      <th>241</th>\n",
              "      <td>REGORAFENIB</td>\n",
              "      <td>CHEMBL1946170</td>\n",
              "      <td>CNC(=O)c1cc(Oc2ccc(NC(=O)Nc3ccc(Cl)c(C(F)(F)F)...</td>\n",
              "      <td>30000.0</td>\n",
              "      <td>inactive</td>\n",
              "    </tr>\n",
              "  </tbody>\n",
              "</table>\n",
              "<p>242 rows × 5 columns</p>\n",
              "</div>"
            ],
            "text/plain": [
              "    molecule_pref_name molecule_chembl_id  ... standard_value            bioactivity\n",
              "0          ABEMACICLIB      CHEMBL3301610  ...          102.0                 active\n",
              "1            LUCITANIB      CHEMBL2220486  ...        30000.0               inactive\n",
              "2            SUNITINIB          CHEMBL535  ...          363.0                 active\n",
              "3              OSI-632       CHEMBL253969  ...        30000.0               inactive\n",
              "4             ICOTINIB      CHEMBL2087361  ...        30000.0               inactive\n",
              "..                 ...                ...  ...            ...                    ...\n",
              "237            FASUDIL        CHEMBL38380  ...        30000.0               inactive\n",
              "238       FOSTAMATINIB      CHEMBL2103830  ...        30000.0               inactive\n",
              "239         TIVANTINIB      CHEMBL2103882  ...        30000.0               inactive\n",
              "240           AXITINIB      CHEMBL1289926  ...         2159.0  intermediate activity\n",
              "241        REGORAFENIB      CHEMBL1946170  ...        30000.0               inactive\n",
              "\n",
              "[242 rows x 5 columns]"
            ]
          },
          "metadata": {
            "tags": []
          },
          "execution_count": 21
        }
      ]
    },
    {
      "cell_type": "markdown",
      "metadata": {
        "id": "HNgwfL8P-YzG"
      },
      "source": [
        "Let's have a quick look at what molecules are highly active"
      ]
    },
    {
      "cell_type": "code",
      "metadata": {
        "id": "ROq3vA1T8BMw",
        "colab": {
          "base_uri": "https://localhost:8080/",
          "height": 257
        },
        "outputId": "ccfbd75e-cf2b-4924-c2d0-b53a61cf650e"
      },
      "source": [
        "HA_data = df_data.loc[df_data['bioactivity'] == 'highly active']\n",
        "HA_data"
      ],
      "execution_count": null,
      "outputs": [
        {
          "output_type": "execute_result",
          "data": {
            "text/html": [
              "<div>\n",
              "<style scoped>\n",
              "    .dataframe tbody tr th:only-of-type {\n",
              "        vertical-align: middle;\n",
              "    }\n",
              "\n",
              "    .dataframe tbody tr th {\n",
              "        vertical-align: top;\n",
              "    }\n",
              "\n",
              "    .dataframe thead th {\n",
              "        text-align: right;\n",
              "    }\n",
              "</style>\n",
              "<table border=\"1\" class=\"dataframe\">\n",
              "  <thead>\n",
              "    <tr style=\"text-align: right;\">\n",
              "      <th></th>\n",
              "      <th>molecule_pref_name</th>\n",
              "      <th>molecule_chembl_id</th>\n",
              "      <th>canonical_smiles</th>\n",
              "      <th>standard_value</th>\n",
              "      <th>bioactivity</th>\n",
              "    </tr>\n",
              "  </thead>\n",
              "  <tbody>\n",
              "    <tr>\n",
              "      <th>18</th>\n",
              "      <td>None</td>\n",
              "      <td>CHEMBL1983111</td>\n",
              "      <td>CC(=O)NCC(=O)N1C2CCC1c1cc(Nc3ncc(C(F)(F)F)c(NC...</td>\n",
              "      <td>9.0</td>\n",
              "      <td>highly active</td>\n",
              "    </tr>\n",
              "    <tr>\n",
              "      <th>50</th>\n",
              "      <td>CYC-116</td>\n",
              "      <td>CHEMBL482967</td>\n",
              "      <td>Cc1nc(N)sc1-c1ccnc(Nc2ccc(N3CCOCC3)cc2)n1</td>\n",
              "      <td>6.0</td>\n",
              "      <td>highly active</td>\n",
              "    </tr>\n",
              "    <tr>\n",
              "      <th>84</th>\n",
              "      <td>MOMELOTINIB</td>\n",
              "      <td>CHEMBL1078178</td>\n",
              "      <td>N#CCNC(=O)c1ccc(-c2ccnc(Nc3ccc(N4CCOCC4)cc3)n2...</td>\n",
              "      <td>4.0</td>\n",
              "      <td>highly active</td>\n",
              "    </tr>\n",
              "    <tr>\n",
              "      <th>91</th>\n",
              "      <td>None</td>\n",
              "      <td>CHEMBL3991929</td>\n",
              "      <td>CCS(=O)(=O)N1CCN(c2ccc(Nc3ncc(C(N)=O)c(NC4CC4)...</td>\n",
              "      <td>1.0</td>\n",
              "      <td>highly active</td>\n",
              "    </tr>\n",
              "    <tr>\n",
              "      <th>95</th>\n",
              "      <td>PF-00477736</td>\n",
              "      <td>CHEMBL3545137</td>\n",
              "      <td>Cn1cc(-c2nc3cc(NC(=O)C(N)C4CCCCC4)cc4c3-c2c[nH...</td>\n",
              "      <td>2.0</td>\n",
              "      <td>highly active</td>\n",
              "    </tr>\n",
              "    <tr>\n",
              "      <th>185</th>\n",
              "      <td>XL-019</td>\n",
              "      <td>CHEMBL3545328</td>\n",
              "      <td>O=C(Nc1ccc(-c2ccnc(Nc3ccc(N4CCOCC4)cc3)n2)cc1)...</td>\n",
              "      <td>6.0</td>\n",
              "      <td>highly active</td>\n",
              "    </tr>\n",
              "    <tr>\n",
              "      <th>191</th>\n",
              "      <td>K-252A</td>\n",
              "      <td>CHEMBL281948</td>\n",
              "      <td>COC(=O)[C@@]1(O)C[C@H]2O[C@]1(C)n1c3ccccc3c3c4...</td>\n",
              "      <td>5.0</td>\n",
              "      <td>highly active</td>\n",
              "    </tr>\n",
              "  </tbody>\n",
              "</table>\n",
              "</div>"
            ],
            "text/plain": [
              "    molecule_pref_name molecule_chembl_id  ... standard_value    bioactivity\n",
              "18                None      CHEMBL1983111  ...            9.0  highly active\n",
              "50             CYC-116       CHEMBL482967  ...            6.0  highly active\n",
              "84         MOMELOTINIB      CHEMBL1078178  ...            4.0  highly active\n",
              "91                None      CHEMBL3991929  ...            1.0  highly active\n",
              "95         PF-00477736      CHEMBL3545137  ...            2.0  highly active\n",
              "185             XL-019      CHEMBL3545328  ...            6.0  highly active\n",
              "191             K-252A       CHEMBL281948  ...            5.0  highly active\n",
              "\n",
              "[7 rows x 5 columns]"
            ]
          },
          "metadata": {
            "tags": []
          },
          "execution_count": 22
        }
      ]
    },
    {
      "cell_type": "code",
      "metadata": {
        "id": "_7nNm9P6-mPZ",
        "colab": {
          "base_uri": "https://localhost:8080/",
          "height": 416
        },
        "outputId": "7ca3ce37-de95-471f-b582-936eced3ff90"
      },
      "source": [
        "HA_mol_list = []\n",
        "for i in HA_data.canonical_smiles:\n",
        "  ha_mol = Chem.MolFromSmiles(i)\n",
        "  HA_mol_list.append(ha_mol)\n",
        "\n",
        "Draw.MolsToGridImage(HA_mol_list, molsPerRow=4, legends=[str(x) for x in HA_data.molecule_pref_name])"
      ],
      "execution_count": null,
      "outputs": [
        {
          "output_type": "execute_result",
          "data": {
            "image/png": "[encoded data removed]",
            "text/plain": [
              "<PIL.PngImagePlugin.PngImageFile image mode=RGB size=800x400 at 0x7F450599EB00>"
            ]
          },
          "metadata": {
            "tags": []
          },
          "execution_count": 23
        }
      ]
    },
    {
      "cell_type": "code",
      "metadata": {
        "id": "Mp_0chsiBvIk"
      },
      "source": [
        "# saving without an index\n",
        "df_data.to_csv('AAK1_preprocessed_bioactivity_data.csv', index=False)"
      ],
      "execution_count": null,
      "outputs": []
    },
    {
      "cell_type": "markdown",
      "metadata": {
        "id": "oANq8-2PGm_W"
      },
      "source": [
        "## **Calculating the Lipinski Descriptors**"
      ]
    },
    {
      "cell_type": "markdown",
      "metadata": {
        "id": "j5D_YgiEH-g4"
      },
      "source": [
        "Calculating the:\n",
        "\n",
        "\n",
        "*   Molecular weight\n",
        "*   Octanol-Water partition coeff\n",
        "*   No. of H-bond donors\n",
        "*   No. of H-bond acceptors\n",
        "\n"
      ]
    },
    {
      "cell_type": "code",
      "metadata": {
        "id": "88cKWr7EEB6O"
      },
      "source": [
        "molecular_data = []\n",
        "for i in df_data.canonical_smiles:\n",
        "  mol = Chem.MolFromSmiles(i)\n",
        "  molecular_data.append(mol)"
      ],
      "execution_count": null,
      "outputs": []
    },
    {
      "cell_type": "code",
      "metadata": {
        "id": "XDOlTN0lEDlp"
      },
      "source": [
        "# create empty list to fill\n",
        "empty = []\n",
        "\n",
        "for mol in molecular_data:\n",
        "  descript_mw = Descriptors.MolWt(mol)\n",
        "  descript_logp = Descriptors.MolLogP(mol)\n",
        "  descript_hdon = Lipinski.NumHDonors(mol)\n",
        "  descript_hacc = Lipinski.NumHAcceptors(mol)\n",
        "\n",
        "  descriptors = ([descript_mw,descript_logp,descript_hdon,descript_hacc])\n",
        "\n",
        "  empty.append(descriptors)"
      ],
      "execution_count": null,
      "outputs": []
    },
    {
      "cell_type": "code",
      "metadata": {
        "id": "lzpBpeOLK7CF",
        "colab": {
          "base_uri": "https://localhost:8080/",
          "height": 406
        },
        "outputId": "35743d6e-e189-44c8-ddd0-a59b1d6357d5"
      },
      "source": [
        "column_labels = [\"MW\",\"LogP\",\"No_H-Donors\",\"No_H-Acceptors\"]\n",
        "df_des = pd.DataFrame(empty, columns=column_labels)\n",
        "df_des"
      ],
      "execution_count": null,
      "outputs": [
        {
          "output_type": "execute_result",
          "data": {
            "text/html": [
              "<div>\n",
              "<style scoped>\n",
              "    .dataframe tbody tr th:only-of-type {\n",
              "        vertical-align: middle;\n",
              "    }\n",
              "\n",
              "    .dataframe tbody tr th {\n",
              "        vertical-align: top;\n",
              "    }\n",
              "\n",
              "    .dataframe thead th {\n",
              "        text-align: right;\n",
              "    }\n",
              "</style>\n",
              "<table border=\"1\" class=\"dataframe\">\n",
              "  <thead>\n",
              "    <tr style=\"text-align: right;\">\n",
              "      <th></th>\n",
              "      <th>MW</th>\n",
              "      <th>LogP</th>\n",
              "      <th>No_H-Donors</th>\n",
              "      <th>No_H-Acceptors</th>\n",
              "    </tr>\n",
              "  </thead>\n",
              "  <tbody>\n",
              "    <tr>\n",
              "      <th>0</th>\n",
              "      <td>506.605</td>\n",
              "      <td>4.93692</td>\n",
              "      <td>1</td>\n",
              "      <td>8</td>\n",
              "    </tr>\n",
              "    <tr>\n",
              "      <th>1</th>\n",
              "      <td>443.503</td>\n",
              "      <td>4.41860</td>\n",
              "      <td>2</td>\n",
              "      <td>6</td>\n",
              "    </tr>\n",
              "    <tr>\n",
              "      <th>2</th>\n",
              "      <td>398.482</td>\n",
              "      <td>3.33494</td>\n",
              "      <td>3</td>\n",
              "      <td>3</td>\n",
              "    </tr>\n",
              "    <tr>\n",
              "      <th>3</th>\n",
              "      <td>532.411</td>\n",
              "      <td>3.85920</td>\n",
              "      <td>3</td>\n",
              "      <td>6</td>\n",
              "    </tr>\n",
              "    <tr>\n",
              "      <th>4</th>\n",
              "      <td>391.427</td>\n",
              "      <td>3.15910</td>\n",
              "      <td>1</td>\n",
              "      <td>7</td>\n",
              "    </tr>\n",
              "    <tr>\n",
              "      <th>...</th>\n",
              "      <td>...</td>\n",
              "      <td>...</td>\n",
              "      <td>...</td>\n",
              "      <td>...</td>\n",
              "    </tr>\n",
              "    <tr>\n",
              "      <th>237</th>\n",
              "      <td>291.376</td>\n",
              "      <td>1.21880</td>\n",
              "      <td>1</td>\n",
              "      <td>4</td>\n",
              "    </tr>\n",
              "    <tr>\n",
              "      <th>238</th>\n",
              "      <td>580.466</td>\n",
              "      <td>3.09450</td>\n",
              "      <td>4</td>\n",
              "      <td>12</td>\n",
              "    </tr>\n",
              "    <tr>\n",
              "      <th>239</th>\n",
              "      <td>369.424</td>\n",
              "      <td>3.59260</td>\n",
              "      <td>2</td>\n",
              "      <td>3</td>\n",
              "    </tr>\n",
              "    <tr>\n",
              "      <th>240</th>\n",
              "      <td>386.480</td>\n",
              "      <td>4.63910</td>\n",
              "      <td>2</td>\n",
              "      <td>4</td>\n",
              "    </tr>\n",
              "    <tr>\n",
              "      <th>241</th>\n",
              "      <td>482.821</td>\n",
              "      <td>5.68880</td>\n",
              "      <td>3</td>\n",
              "      <td>4</td>\n",
              "    </tr>\n",
              "  </tbody>\n",
              "</table>\n",
              "<p>242 rows × 4 columns</p>\n",
              "</div>"
            ],
            "text/plain": [
              "          MW     LogP  No_H-Donors  No_H-Acceptors\n",
              "0    506.605  4.93692            1               8\n",
              "1    443.503  4.41860            2               6\n",
              "2    398.482  3.33494            3               3\n",
              "3    532.411  3.85920            3               6\n",
              "4    391.427  3.15910            1               7\n",
              "..       ...      ...          ...             ...\n",
              "237  291.376  1.21880            1               4\n",
              "238  580.466  3.09450            4              12\n",
              "239  369.424  3.59260            2               3\n",
              "240  386.480  4.63910            2               4\n",
              "241  482.821  5.68880            3               4\n",
              "\n",
              "[242 rows x 4 columns]"
            ]
          },
          "metadata": {
            "tags": []
          },
          "execution_count": 27
        }
      ]
    },
    {
      "cell_type": "code",
      "metadata": {
        "id": "on0fqtlbK-Wv",
        "colab": {
          "base_uri": "https://localhost:8080/",
          "height": 406
        },
        "outputId": "129f46a2-e92d-49ed-fd01-bef678ca83ee"
      },
      "source": [
        "combined_info = pd.concat([df_data, df_des], axis=1)\n",
        "combined_info"
      ],
      "execution_count": null,
      "outputs": [
        {
          "output_type": "execute_result",
          "data": {
            "text/html": [
              "<div>\n",
              "<style scoped>\n",
              "    .dataframe tbody tr th:only-of-type {\n",
              "        vertical-align: middle;\n",
              "    }\n",
              "\n",
              "    .dataframe tbody tr th {\n",
              "        vertical-align: top;\n",
              "    }\n",
              "\n",
              "    .dataframe thead th {\n",
              "        text-align: right;\n",
              "    }\n",
              "</style>\n",
              "<table border=\"1\" class=\"dataframe\">\n",
              "  <thead>\n",
              "    <tr style=\"text-align: right;\">\n",
              "      <th></th>\n",
              "      <th>molecule_pref_name</th>\n",
              "      <th>molecule_chembl_id</th>\n",
              "      <th>canonical_smiles</th>\n",
              "      <th>standard_value</th>\n",
              "      <th>bioactivity</th>\n",
              "      <th>MW</th>\n",
              "      <th>LogP</th>\n",
              "      <th>No_H-Donors</th>\n",
              "      <th>No_H-Acceptors</th>\n",
              "    </tr>\n",
              "  </thead>\n",
              "  <tbody>\n",
              "    <tr>\n",
              "      <th>0</th>\n",
              "      <td>ABEMACICLIB</td>\n",
              "      <td>CHEMBL3301610</td>\n",
              "      <td>CCN1CCN(Cc2ccc(Nc3ncc(F)c(-c4cc(F)c5nc(C)n(C(C...</td>\n",
              "      <td>102.0</td>\n",
              "      <td>active</td>\n",
              "      <td>506.605</td>\n",
              "      <td>4.93692</td>\n",
              "      <td>1</td>\n",
              "      <td>8</td>\n",
              "    </tr>\n",
              "    <tr>\n",
              "      <th>1</th>\n",
              "      <td>LUCITANIB</td>\n",
              "      <td>CHEMBL2220486</td>\n",
              "      <td>CNC(=O)c1cccc2cc(Oc3ccnc4cc(OCC5(N)CC5)c(OC)cc...</td>\n",
              "      <td>30000.0</td>\n",
              "      <td>inactive</td>\n",
              "      <td>443.503</td>\n",
              "      <td>4.41860</td>\n",
              "      <td>2</td>\n",
              "      <td>6</td>\n",
              "    </tr>\n",
              "    <tr>\n",
              "      <th>2</th>\n",
              "      <td>SUNITINIB</td>\n",
              "      <td>CHEMBL535</td>\n",
              "      <td>CCN(CC)CCNC(=O)c1c(C)[nH]c(/C=C2\\C(=O)Nc3ccc(F...</td>\n",
              "      <td>363.0</td>\n",
              "      <td>active</td>\n",
              "      <td>398.482</td>\n",
              "      <td>3.33494</td>\n",
              "      <td>3</td>\n",
              "      <td>3</td>\n",
              "    </tr>\n",
              "    <tr>\n",
              "      <th>3</th>\n",
              "      <td>OSI-632</td>\n",
              "      <td>CHEMBL253969</td>\n",
              "      <td>NC(=O)c1c(OCc2c(F)cc(Br)cc2F)nsc1NC(=O)NCCCCN1...</td>\n",
              "      <td>30000.0</td>\n",
              "      <td>inactive</td>\n",
              "      <td>532.411</td>\n",
              "      <td>3.85920</td>\n",
              "      <td>3</td>\n",
              "      <td>6</td>\n",
              "    </tr>\n",
              "    <tr>\n",
              "      <th>4</th>\n",
              "      <td>ICOTINIB</td>\n",
              "      <td>CHEMBL2087361</td>\n",
              "      <td>C#Cc1cccc(Nc2ncnc3cc4c(cc23)OCCOCCOCCO4)c1</td>\n",
              "      <td>30000.0</td>\n",
              "      <td>inactive</td>\n",
              "      <td>391.427</td>\n",
              "      <td>3.15910</td>\n",
              "      <td>1</td>\n",
              "      <td>7</td>\n",
              "    </tr>\n",
              "    <tr>\n",
              "      <th>...</th>\n",
              "      <td>...</td>\n",
              "      <td>...</td>\n",
              "      <td>...</td>\n",
              "      <td>...</td>\n",
              "      <td>...</td>\n",
              "      <td>...</td>\n",
              "      <td>...</td>\n",
              "      <td>...</td>\n",
              "      <td>...</td>\n",
              "    </tr>\n",
              "    <tr>\n",
              "      <th>237</th>\n",
              "      <td>FASUDIL</td>\n",
              "      <td>CHEMBL38380</td>\n",
              "      <td>O=S(=O)(c1cccc2cnccc12)N1CCCNCC1</td>\n",
              "      <td>30000.0</td>\n",
              "      <td>inactive</td>\n",
              "      <td>291.376</td>\n",
              "      <td>1.21880</td>\n",
              "      <td>1</td>\n",
              "      <td>4</td>\n",
              "    </tr>\n",
              "    <tr>\n",
              "      <th>238</th>\n",
              "      <td>FOSTAMATINIB</td>\n",
              "      <td>CHEMBL2103830</td>\n",
              "      <td>COc1cc(Nc2ncc(F)c(Nc3ccc4c(n3)N(COP(=O)(O)O)C(...</td>\n",
              "      <td>30000.0</td>\n",
              "      <td>inactive</td>\n",
              "      <td>580.466</td>\n",
              "      <td>3.09450</td>\n",
              "      <td>4</td>\n",
              "      <td>12</td>\n",
              "    </tr>\n",
              "    <tr>\n",
              "      <th>239</th>\n",
              "      <td>TIVANTINIB</td>\n",
              "      <td>CHEMBL2103882</td>\n",
              "      <td>O=C1NC(=O)[C@@H](c2cn3c4c(cccc24)CCC3)[C@@H]1c...</td>\n",
              "      <td>30000.0</td>\n",
              "      <td>inactive</td>\n",
              "      <td>369.424</td>\n",
              "      <td>3.59260</td>\n",
              "      <td>2</td>\n",
              "      <td>3</td>\n",
              "    </tr>\n",
              "    <tr>\n",
              "      <th>240</th>\n",
              "      <td>AXITINIB</td>\n",
              "      <td>CHEMBL1289926</td>\n",
              "      <td>CNC(=O)c1ccccc1Sc1ccc2c(/C=C/c3ccccn3)n[nH]c2c1</td>\n",
              "      <td>2159.0</td>\n",
              "      <td>intermediate activity</td>\n",
              "      <td>386.480</td>\n",
              "      <td>4.63910</td>\n",
              "      <td>2</td>\n",
              "      <td>4</td>\n",
              "    </tr>\n",
              "    <tr>\n",
              "      <th>241</th>\n",
              "      <td>REGORAFENIB</td>\n",
              "      <td>CHEMBL1946170</td>\n",
              "      <td>CNC(=O)c1cc(Oc2ccc(NC(=O)Nc3ccc(Cl)c(C(F)(F)F)...</td>\n",
              "      <td>30000.0</td>\n",
              "      <td>inactive</td>\n",
              "      <td>482.821</td>\n",
              "      <td>5.68880</td>\n",
              "      <td>3</td>\n",
              "      <td>4</td>\n",
              "    </tr>\n",
              "  </tbody>\n",
              "</table>\n",
              "<p>242 rows × 9 columns</p>\n",
              "</div>"
            ],
            "text/plain": [
              "    molecule_pref_name molecule_chembl_id  ... No_H-Donors No_H-Acceptors\n",
              "0          ABEMACICLIB      CHEMBL3301610  ...           1              8\n",
              "1            LUCITANIB      CHEMBL2220486  ...           2              6\n",
              "2            SUNITINIB          CHEMBL535  ...           3              3\n",
              "3              OSI-632       CHEMBL253969  ...           3              6\n",
              "4             ICOTINIB      CHEMBL2087361  ...           1              7\n",
              "..                 ...                ...  ...         ...            ...\n",
              "237            FASUDIL        CHEMBL38380  ...           1              4\n",
              "238       FOSTAMATINIB      CHEMBL2103830  ...           4             12\n",
              "239         TIVANTINIB      CHEMBL2103882  ...           2              3\n",
              "240           AXITINIB      CHEMBL1289926  ...           2              4\n",
              "241        REGORAFENIB      CHEMBL1946170  ...           3              4\n",
              "\n",
              "[242 rows x 9 columns]"
            ]
          },
          "metadata": {
            "tags": []
          },
          "execution_count": 28
        }
      ]
    },
    {
      "cell_type": "code",
      "metadata": {
        "id": "Tt0jUJNqUdNo",
        "colab": {
          "base_uri": "https://localhost:8080/",
          "height": 287
        },
        "outputId": "eec24d66-a85d-4105-eaf3-cb313abf088c"
      },
      "source": [
        "combined_info.describe()"
      ],
      "execution_count": null,
      "outputs": [
        {
          "output_type": "execute_result",
          "data": {
            "text/html": [
              "<div>\n",
              "<style scoped>\n",
              "    .dataframe tbody tr th:only-of-type {\n",
              "        vertical-align: middle;\n",
              "    }\n",
              "\n",
              "    .dataframe tbody tr th {\n",
              "        vertical-align: top;\n",
              "    }\n",
              "\n",
              "    .dataframe thead th {\n",
              "        text-align: right;\n",
              "    }\n",
              "</style>\n",
              "<table border=\"1\" class=\"dataframe\">\n",
              "  <thead>\n",
              "    <tr style=\"text-align: right;\">\n",
              "      <th></th>\n",
              "      <th>MW</th>\n",
              "      <th>LogP</th>\n",
              "      <th>No_H-Donors</th>\n",
              "      <th>No_H-Acceptors</th>\n",
              "    </tr>\n",
              "  </thead>\n",
              "  <tbody>\n",
              "    <tr>\n",
              "      <th>count</th>\n",
              "      <td>242.000000</td>\n",
              "      <td>242.000000</td>\n",
              "      <td>242.000000</td>\n",
              "      <td>242.000000</td>\n",
              "    </tr>\n",
              "    <tr>\n",
              "      <th>mean</th>\n",
              "      <td>462.118620</td>\n",
              "      <td>3.862090</td>\n",
              "      <td>2.074380</td>\n",
              "      <td>6.760331</td>\n",
              "    </tr>\n",
              "    <tr>\n",
              "      <th>std</th>\n",
              "      <td>99.243564</td>\n",
              "      <td>1.417905</td>\n",
              "      <td>0.990957</td>\n",
              "      <td>2.049288</td>\n",
              "    </tr>\n",
              "    <tr>\n",
              "      <th>min</th>\n",
              "      <td>244.294000</td>\n",
              "      <td>-1.770100</td>\n",
              "      <td>0.000000</td>\n",
              "      <td>2.000000</td>\n",
              "    </tr>\n",
              "    <tr>\n",
              "      <th>25%</th>\n",
              "      <td>406.703750</td>\n",
              "      <td>3.034230</td>\n",
              "      <td>1.000000</td>\n",
              "      <td>5.000000</td>\n",
              "    </tr>\n",
              "    <tr>\n",
              "      <th>50%</th>\n",
              "      <td>457.424500</td>\n",
              "      <td>3.759000</td>\n",
              "      <td>2.000000</td>\n",
              "      <td>7.000000</td>\n",
              "    </tr>\n",
              "    <tr>\n",
              "      <th>75%</th>\n",
              "      <td>506.528000</td>\n",
              "      <td>4.925130</td>\n",
              "      <td>3.000000</td>\n",
              "      <td>8.000000</td>\n",
              "    </tr>\n",
              "    <tr>\n",
              "      <th>max</th>\n",
              "      <td>1030.303000</td>\n",
              "      <td>7.742600</td>\n",
              "      <td>5.000000</td>\n",
              "      <td>16.000000</td>\n",
              "    </tr>\n",
              "  </tbody>\n",
              "</table>\n",
              "</div>"
            ],
            "text/plain": [
              "                MW        LogP  No_H-Donors  No_H-Acceptors\n",
              "count   242.000000  242.000000   242.000000      242.000000\n",
              "mean    462.118620    3.862090     2.074380        6.760331\n",
              "std      99.243564    1.417905     0.990957        2.049288\n",
              "min     244.294000   -1.770100     0.000000        2.000000\n",
              "25%     406.703750    3.034230     1.000000        5.000000\n",
              "50%     457.424500    3.759000     2.000000        7.000000\n",
              "75%     506.528000    4.925130     3.000000        8.000000\n",
              "max    1030.303000    7.742600     5.000000       16.000000"
            ]
          },
          "metadata": {
            "tags": []
          },
          "execution_count": 29
        }
      ]
    },
    {
      "cell_type": "code",
      "metadata": {
        "id": "9t4OYgx-UjkS",
        "colab": {
          "base_uri": "https://localhost:8080/",
          "height": 287
        },
        "outputId": "f67f93cf-311b-4e97-84c6-0777aed1b6e9"
      },
      "source": [
        "# the values in the standard_value column are currently strings lets convert to floats\n",
        "\n",
        "combined_info[\"standard_value\"] = pd.to_numeric(combined_info[\"standard_value\"], downcast=\"float\")\n",
        "\n",
        "combined_info.describe()"
      ],
      "execution_count": null,
      "outputs": [
        {
          "output_type": "execute_result",
          "data": {
            "text/html": [
              "<div>\n",
              "<style scoped>\n",
              "    .dataframe tbody tr th:only-of-type {\n",
              "        vertical-align: middle;\n",
              "    }\n",
              "\n",
              "    .dataframe tbody tr th {\n",
              "        vertical-align: top;\n",
              "    }\n",
              "\n",
              "    .dataframe thead th {\n",
              "        text-align: right;\n",
              "    }\n",
              "</style>\n",
              "<table border=\"1\" class=\"dataframe\">\n",
              "  <thead>\n",
              "    <tr style=\"text-align: right;\">\n",
              "      <th></th>\n",
              "      <th>standard_value</th>\n",
              "      <th>MW</th>\n",
              "      <th>LogP</th>\n",
              "      <th>No_H-Donors</th>\n",
              "      <th>No_H-Acceptors</th>\n",
              "    </tr>\n",
              "  </thead>\n",
              "  <tbody>\n",
              "    <tr>\n",
              "      <th>count</th>\n",
              "      <td>242.000000</td>\n",
              "      <td>242.000000</td>\n",
              "      <td>242.000000</td>\n",
              "      <td>242.000000</td>\n",
              "      <td>242.000000</td>\n",
              "    </tr>\n",
              "    <tr>\n",
              "      <th>mean</th>\n",
              "      <td>24169.611328</td>\n",
              "      <td>462.118620</td>\n",
              "      <td>3.862090</td>\n",
              "      <td>2.074380</td>\n",
              "      <td>6.760331</td>\n",
              "    </tr>\n",
              "    <tr>\n",
              "      <th>std</th>\n",
              "      <td>11576.140625</td>\n",
              "      <td>99.243564</td>\n",
              "      <td>1.417905</td>\n",
              "      <td>0.990957</td>\n",
              "      <td>2.049288</td>\n",
              "    </tr>\n",
              "    <tr>\n",
              "      <th>min</th>\n",
              "      <td>1.000000</td>\n",
              "      <td>244.294000</td>\n",
              "      <td>-1.770100</td>\n",
              "      <td>0.000000</td>\n",
              "      <td>2.000000</td>\n",
              "    </tr>\n",
              "    <tr>\n",
              "      <th>25%</th>\n",
              "      <td>30000.000000</td>\n",
              "      <td>406.703750</td>\n",
              "      <td>3.034230</td>\n",
              "      <td>1.000000</td>\n",
              "      <td>5.000000</td>\n",
              "    </tr>\n",
              "    <tr>\n",
              "      <th>50%</th>\n",
              "      <td>30000.000000</td>\n",
              "      <td>457.424500</td>\n",
              "      <td>3.759000</td>\n",
              "      <td>2.000000</td>\n",
              "      <td>7.000000</td>\n",
              "    </tr>\n",
              "    <tr>\n",
              "      <th>75%</th>\n",
              "      <td>30000.000000</td>\n",
              "      <td>506.528000</td>\n",
              "      <td>4.925130</td>\n",
              "      <td>3.000000</td>\n",
              "      <td>8.000000</td>\n",
              "    </tr>\n",
              "    <tr>\n",
              "      <th>max</th>\n",
              "      <td>30000.000000</td>\n",
              "      <td>1030.303000</td>\n",
              "      <td>7.742600</td>\n",
              "      <td>5.000000</td>\n",
              "      <td>16.000000</td>\n",
              "    </tr>\n",
              "  </tbody>\n",
              "</table>\n",
              "</div>"
            ],
            "text/plain": [
              "       standard_value           MW        LogP  No_H-Donors  No_H-Acceptors\n",
              "count      242.000000   242.000000  242.000000   242.000000      242.000000\n",
              "mean     24169.611328   462.118620    3.862090     2.074380        6.760331\n",
              "std      11576.140625    99.243564    1.417905     0.990957        2.049288\n",
              "min          1.000000   244.294000   -1.770100     0.000000        2.000000\n",
              "25%      30000.000000   406.703750    3.034230     1.000000        5.000000\n",
              "50%      30000.000000   457.424500    3.759000     2.000000        7.000000\n",
              "75%      30000.000000   506.528000    4.925130     3.000000        8.000000\n",
              "max      30000.000000  1030.303000    7.742600     5.000000       16.000000"
            ]
          },
          "metadata": {
            "tags": []
          },
          "execution_count": 30
        }
      ]
    },
    {
      "cell_type": "code",
      "metadata": {
        "id": "Epk-9BoMN0tJ",
        "colab": {
          "base_uri": "https://localhost:8080/"
        },
        "outputId": "c0abffe6-44aa-4054-92ee-b85c00a10c53"
      },
      "source": [
        "# the dissociation constant does not go above 30000 nM or 30 uM.\n",
        "len(combined_info.loc[combined_info.standard_value > 30000])"
      ],
      "execution_count": null,
      "outputs": [
        {
          "output_type": "execute_result",
          "data": {
            "text/plain": [
              "0"
            ]
          },
          "metadata": {
            "tags": []
          },
          "execution_count": 31
        }
      ]
    },
    {
      "cell_type": "code",
      "metadata": {
        "id": "WVTBEAEbLtT8",
        "colab": {
          "base_uri": "https://localhost:8080/",
          "height": 297
        },
        "outputId": "aa62dbbc-a7b4-4322-f452-977c18318168"
      },
      "source": [
        "combined_info.plot.scatter(x='standard_value', y='MW')"
      ],
      "execution_count": null,
      "outputs": [
        {
          "output_type": "execute_result",
          "data": {
            "text/plain": [
              "<matplotlib.axes._subplots.AxesSubplot at 0x7f45046cefd0>"
            ]
          },
          "metadata": {
            "tags": []
          },
          "execution_count": 32
        },
        {
          "output_type": "display_data",
          "data": {
            "image/png": "[encoded data removed]",
            "text/plain": [
              "<Figure size 432x288 with 1 Axes>"
            ]
          },
          "metadata": {
            "tags": [],
            "needs_background": "light"
          }
        }
      ]
    },
    {
      "cell_type": "markdown",
      "metadata": {
        "id": "-lIESZJnWTQm"
      },
      "source": [
        "Let's try taking the negative log of molar value $(nM \\times 10^{-9})$ of $K_d$ in order to obtain a more even distribution and replace the standard_value column with a -logKd column using the below function"
      ]
    },
    {
      "cell_type": "code",
      "metadata": {
        "id": "h7eZ0ZjNUIvd"
      },
      "source": [
        "def logKd(input):\n",
        "    logKd = []\n",
        "\n",
        "    for i in input['standard_value']:\n",
        "# Convert nM to M\n",
        "        molar = i*(10**-9) \n",
        "        logKd.append(-np.log10(molar))\n",
        "\n",
        "    input['-logKd'] = logKd\n",
        "    x = input.drop('standard_value', 1)\n",
        "        \n",
        "    return x"
      ],
      "execution_count": null,
      "outputs": []
    },
    {
      "cell_type": "code",
      "metadata": {
        "id": "dGZsTbe-YnRE",
        "colab": {
          "base_uri": "https://localhost:8080/",
          "height": 406
        },
        "outputId": "7be70f6d-49dd-4fd7-f155-63399563c3a2"
      },
      "source": [
        "df_final = logKd(combined_info)\n",
        "df_final"
      ],
      "execution_count": null,
      "outputs": [
        {
          "output_type": "execute_result",
          "data": {
            "text/html": [
              "<div>\n",
              "<style scoped>\n",
              "    .dataframe tbody tr th:only-of-type {\n",
              "        vertical-align: middle;\n",
              "    }\n",
              "\n",
              "    .dataframe tbody tr th {\n",
              "        vertical-align: top;\n",
              "    }\n",
              "\n",
              "    .dataframe thead th {\n",
              "        text-align: right;\n",
              "    }\n",
              "</style>\n",
              "<table border=\"1\" class=\"dataframe\">\n",
              "  <thead>\n",
              "    <tr style=\"text-align: right;\">\n",
              "      <th></th>\n",
              "      <th>molecule_pref_name</th>\n",
              "      <th>molecule_chembl_id</th>\n",
              "      <th>canonical_smiles</th>\n",
              "      <th>bioactivity</th>\n",
              "      <th>MW</th>\n",
              "      <th>LogP</th>\n",
              "      <th>No_H-Donors</th>\n",
              "      <th>No_H-Acceptors</th>\n",
              "      <th>-logKd</th>\n",
              "    </tr>\n",
              "  </thead>\n",
              "  <tbody>\n",
              "    <tr>\n",
              "      <th>0</th>\n",
              "      <td>ABEMACICLIB</td>\n",
              "      <td>CHEMBL3301610</td>\n",
              "      <td>CCN1CCN(Cc2ccc(Nc3ncc(F)c(-c4cc(F)c5nc(C)n(C(C...</td>\n",
              "      <td>active</td>\n",
              "      <td>506.605</td>\n",
              "      <td>4.93692</td>\n",
              "      <td>1</td>\n",
              "      <td>8</td>\n",
              "      <td>6.991400</td>\n",
              "    </tr>\n",
              "    <tr>\n",
              "      <th>1</th>\n",
              "      <td>LUCITANIB</td>\n",
              "      <td>CHEMBL2220486</td>\n",
              "      <td>CNC(=O)c1cccc2cc(Oc3ccnc4cc(OCC5(N)CC5)c(OC)cc...</td>\n",
              "      <td>inactive</td>\n",
              "      <td>443.503</td>\n",
              "      <td>4.41860</td>\n",
              "      <td>2</td>\n",
              "      <td>6</td>\n",
              "      <td>4.522879</td>\n",
              "    </tr>\n",
              "    <tr>\n",
              "      <th>2</th>\n",
              "      <td>SUNITINIB</td>\n",
              "      <td>CHEMBL535</td>\n",
              "      <td>CCN(CC)CCNC(=O)c1c(C)[nH]c(/C=C2\\C(=O)Nc3ccc(F...</td>\n",
              "      <td>active</td>\n",
              "      <td>398.482</td>\n",
              "      <td>3.33494</td>\n",
              "      <td>3</td>\n",
              "      <td>3</td>\n",
              "      <td>6.440093</td>\n",
              "    </tr>\n",
              "    <tr>\n",
              "      <th>3</th>\n",
              "      <td>OSI-632</td>\n",
              "      <td>CHEMBL253969</td>\n",
              "      <td>NC(=O)c1c(OCc2c(F)cc(Br)cc2F)nsc1NC(=O)NCCCCN1...</td>\n",
              "      <td>inactive</td>\n",
              "      <td>532.411</td>\n",
              "      <td>3.85920</td>\n",
              "      <td>3</td>\n",
              "      <td>6</td>\n",
              "      <td>4.522879</td>\n",
              "    </tr>\n",
              "    <tr>\n",
              "      <th>4</th>\n",
              "      <td>ICOTINIB</td>\n",
              "      <td>CHEMBL2087361</td>\n",
              "      <td>C#Cc1cccc(Nc2ncnc3cc4c(cc23)OCCOCCOCCO4)c1</td>\n",
              "      <td>inactive</td>\n",
              "      <td>391.427</td>\n",
              "      <td>3.15910</td>\n",
              "      <td>1</td>\n",
              "      <td>7</td>\n",
              "      <td>4.522879</td>\n",
              "    </tr>\n",
              "    <tr>\n",
              "      <th>...</th>\n",
              "      <td>...</td>\n",
              "      <td>...</td>\n",
              "      <td>...</td>\n",
              "      <td>...</td>\n",
              "      <td>...</td>\n",
              "      <td>...</td>\n",
              "      <td>...</td>\n",
              "      <td>...</td>\n",
              "      <td>...</td>\n",
              "    </tr>\n",
              "    <tr>\n",
              "      <th>237</th>\n",
              "      <td>FASUDIL</td>\n",
              "      <td>CHEMBL38380</td>\n",
              "      <td>O=S(=O)(c1cccc2cnccc12)N1CCCNCC1</td>\n",
              "      <td>inactive</td>\n",
              "      <td>291.376</td>\n",
              "      <td>1.21880</td>\n",
              "      <td>1</td>\n",
              "      <td>4</td>\n",
              "      <td>4.522879</td>\n",
              "    </tr>\n",
              "    <tr>\n",
              "      <th>238</th>\n",
              "      <td>FOSTAMATINIB</td>\n",
              "      <td>CHEMBL2103830</td>\n",
              "      <td>COc1cc(Nc2ncc(F)c(Nc3ccc4c(n3)N(COP(=O)(O)O)C(...</td>\n",
              "      <td>inactive</td>\n",
              "      <td>580.466</td>\n",
              "      <td>3.09450</td>\n",
              "      <td>4</td>\n",
              "      <td>12</td>\n",
              "      <td>4.522879</td>\n",
              "    </tr>\n",
              "    <tr>\n",
              "      <th>239</th>\n",
              "      <td>TIVANTINIB</td>\n",
              "      <td>CHEMBL2103882</td>\n",
              "      <td>O=C1NC(=O)[C@@H](c2cn3c4c(cccc24)CCC3)[C@@H]1c...</td>\n",
              "      <td>inactive</td>\n",
              "      <td>369.424</td>\n",
              "      <td>3.59260</td>\n",
              "      <td>2</td>\n",
              "      <td>3</td>\n",
              "      <td>4.522879</td>\n",
              "    </tr>\n",
              "    <tr>\n",
              "      <th>240</th>\n",
              "      <td>AXITINIB</td>\n",
              "      <td>CHEMBL1289926</td>\n",
              "      <td>CNC(=O)c1ccccc1Sc1ccc2c(/C=C/c3ccccn3)n[nH]c2c1</td>\n",
              "      <td>intermediate activity</td>\n",
              "      <td>386.480</td>\n",
              "      <td>4.63910</td>\n",
              "      <td>2</td>\n",
              "      <td>4</td>\n",
              "      <td>5.665747</td>\n",
              "    </tr>\n",
              "    <tr>\n",
              "      <th>241</th>\n",
              "      <td>REGORAFENIB</td>\n",
              "      <td>CHEMBL1946170</td>\n",
              "      <td>CNC(=O)c1cc(Oc2ccc(NC(=O)Nc3ccc(Cl)c(C(F)(F)F)...</td>\n",
              "      <td>inactive</td>\n",
              "      <td>482.821</td>\n",
              "      <td>5.68880</td>\n",
              "      <td>3</td>\n",
              "      <td>4</td>\n",
              "      <td>4.522879</td>\n",
              "    </tr>\n",
              "  </tbody>\n",
              "</table>\n",
              "<p>242 rows × 9 columns</p>\n",
              "</div>"
            ],
            "text/plain": [
              "    molecule_pref_name molecule_chembl_id  ... No_H-Acceptors    -logKd\n",
              "0          ABEMACICLIB      CHEMBL3301610  ...              8  6.991400\n",
              "1            LUCITANIB      CHEMBL2220486  ...              6  4.522879\n",
              "2            SUNITINIB          CHEMBL535  ...              3  6.440093\n",
              "3              OSI-632       CHEMBL253969  ...              6  4.522879\n",
              "4             ICOTINIB      CHEMBL2087361  ...              7  4.522879\n",
              "..                 ...                ...  ...            ...       ...\n",
              "237            FASUDIL        CHEMBL38380  ...              4  4.522879\n",
              "238       FOSTAMATINIB      CHEMBL2103830  ...             12  4.522879\n",
              "239         TIVANTINIB      CHEMBL2103882  ...              3  4.522879\n",
              "240           AXITINIB      CHEMBL1289926  ...              4  5.665747\n",
              "241        REGORAFENIB      CHEMBL1946170  ...              4  4.522879\n",
              "\n",
              "[242 rows x 9 columns]"
            ]
          },
          "metadata": {
            "tags": []
          },
          "execution_count": 34
        }
      ]
    },
    {
      "cell_type": "markdown",
      "metadata": {
        "id": "GWRNw8pkPAge"
      },
      "source": [
        "## **Top 20 Most Active Compounds**"
      ]
    },
    {
      "cell_type": "code",
      "metadata": {
        "id": "RJCBBH9CPGld",
        "colab": {
          "base_uri": "https://localhost:8080/",
          "height": 647
        },
        "outputId": "ba9748c7-5ddf-4141-df13-c5c9c58c9a23"
      },
      "source": [
        "top_20 = df_final.sort_values(by=['-logKd'], ascending=False).head(20)\n",
        "top_20"
      ],
      "execution_count": null,
      "outputs": [
        {
          "output_type": "execute_result",
          "data": {
            "text/html": [
              "<div>\n",
              "<style scoped>\n",
              "    .dataframe tbody tr th:only-of-type {\n",
              "        vertical-align: middle;\n",
              "    }\n",
              "\n",
              "    .dataframe tbody tr th {\n",
              "        vertical-align: top;\n",
              "    }\n",
              "\n",
              "    .dataframe thead th {\n",
              "        text-align: right;\n",
              "    }\n",
              "</style>\n",
              "<table border=\"1\" class=\"dataframe\">\n",
              "  <thead>\n",
              "    <tr style=\"text-align: right;\">\n",
              "      <th></th>\n",
              "      <th>molecule_pref_name</th>\n",
              "      <th>molecule_chembl_id</th>\n",
              "      <th>canonical_smiles</th>\n",
              "      <th>bioactivity</th>\n",
              "      <th>MW</th>\n",
              "      <th>LogP</th>\n",
              "      <th>No_H-Donors</th>\n",
              "      <th>No_H-Acceptors</th>\n",
              "      <th>-logKd</th>\n",
              "    </tr>\n",
              "  </thead>\n",
              "  <tbody>\n",
              "    <tr>\n",
              "      <th>91</th>\n",
              "      <td>None</td>\n",
              "      <td>CHEMBL3991929</td>\n",
              "      <td>CCS(=O)(=O)N1CCN(c2ccc(Nc3ncc(C(N)=O)c(NC4CC4)...</td>\n",
              "      <td>highly active</td>\n",
              "      <td>482.010</td>\n",
              "      <td>1.78690</td>\n",
              "      <td>3</td>\n",
              "      <td>8</td>\n",
              "      <td>9.000000</td>\n",
              "    </tr>\n",
              "    <tr>\n",
              "      <th>95</th>\n",
              "      <td>PF-00477736</td>\n",
              "      <td>CHEMBL3545137</td>\n",
              "      <td>Cn1cc(-c2nc3cc(NC(=O)C(N)C4CCCCC4)cc4c3-c2c[nH...</td>\n",
              "      <td>highly active</td>\n",
              "      <td>419.489</td>\n",
              "      <td>1.98950</td>\n",
              "      <td>4</td>\n",
              "      <td>7</td>\n",
              "      <td>8.698970</td>\n",
              "    </tr>\n",
              "    <tr>\n",
              "      <th>84</th>\n",
              "      <td>MOMELOTINIB</td>\n",
              "      <td>CHEMBL1078178</td>\n",
              "      <td>N#CCNC(=O)c1ccc(-c2ccnc(Nc3ccc(N4CCOCC4)cc3)n2...</td>\n",
              "      <td>highly active</td>\n",
              "      <td>414.469</td>\n",
              "      <td>2.97718</td>\n",
              "      <td>2</td>\n",
              "      <td>7</td>\n",
              "      <td>8.397940</td>\n",
              "    </tr>\n",
              "    <tr>\n",
              "      <th>191</th>\n",
              "      <td>K-252A</td>\n",
              "      <td>CHEMBL281948</td>\n",
              "      <td>COC(=O)[C@@]1(O)C[C@H]2O[C@]1(C)n1c3ccccc3c3c4...</td>\n",
              "      <td>highly active</td>\n",
              "      <td>467.481</td>\n",
              "      <td>3.65510</td>\n",
              "      <td>2</td>\n",
              "      <td>7</td>\n",
              "      <td>8.301030</td>\n",
              "    </tr>\n",
              "    <tr>\n",
              "      <th>50</th>\n",
              "      <td>CYC-116</td>\n",
              "      <td>CHEMBL482967</td>\n",
              "      <td>Cc1nc(N)sc1-c1ccnc(Nc2ccc(N3CCOCC3)cc2)n1</td>\n",
              "      <td>highly active</td>\n",
              "      <td>368.466</td>\n",
              "      <td>3.07092</td>\n",
              "      <td>2</td>\n",
              "      <td>8</td>\n",
              "      <td>8.221849</td>\n",
              "    </tr>\n",
              "    <tr>\n",
              "      <th>185</th>\n",
              "      <td>XL-019</td>\n",
              "      <td>CHEMBL3545328</td>\n",
              "      <td>O=C(Nc1ccc(-c2ccnc(Nc3ccc(N4CCOCC4)cc3)n2)cc1)...</td>\n",
              "      <td>highly active</td>\n",
              "      <td>444.539</td>\n",
              "      <td>3.41430</td>\n",
              "      <td>3</td>\n",
              "      <td>7</td>\n",
              "      <td>8.221849</td>\n",
              "    </tr>\n",
              "    <tr>\n",
              "      <th>18</th>\n",
              "      <td>None</td>\n",
              "      <td>CHEMBL1983111</td>\n",
              "      <td>CC(=O)NCC(=O)N1C2CCC1c1cc(Nc3ncc(C(F)(F)F)c(NC...</td>\n",
              "      <td>highly active</td>\n",
              "      <td>474.487</td>\n",
              "      <td>4.05770</td>\n",
              "      <td>3</td>\n",
              "      <td>6</td>\n",
              "      <td>8.045757</td>\n",
              "    </tr>\n",
              "    <tr>\n",
              "      <th>223</th>\n",
              "      <td>SAR-407899</td>\n",
              "      <td>CHEMBL1667969</td>\n",
              "      <td>O=c1[nH]ccc2cc(OC3CCNCC3)ccc12</td>\n",
              "      <td>active</td>\n",
              "      <td>244.294</td>\n",
              "      <td>1.65890</td>\n",
              "      <td>2</td>\n",
              "      <td>3</td>\n",
              "      <td>7.920819</td>\n",
              "    </tr>\n",
              "    <tr>\n",
              "      <th>105</th>\n",
              "      <td>AT-9283</td>\n",
              "      <td>CHEMBL495727</td>\n",
              "      <td>O=C(Nc1c[nH]nc1-c1nc2ccc(CN3CCOCC3)cc2[nH]1)NC...</td>\n",
              "      <td>active</td>\n",
              "      <td>381.440</td>\n",
              "      <td>2.06910</td>\n",
              "      <td>4</td>\n",
              "      <td>5</td>\n",
              "      <td>7.769551</td>\n",
              "    </tr>\n",
              "    <tr>\n",
              "      <th>100</th>\n",
              "      <td>RGB-286638</td>\n",
              "      <td>CHEMBL3545083</td>\n",
              "      <td>COCCN1CCN(Cc2ccc(-c3n[nH]c4c3C(=O)c3c(NC(=O)NN...</td>\n",
              "      <td>active</td>\n",
              "      <td>545.644</td>\n",
              "      <td>2.42080</td>\n",
              "      <td>3</td>\n",
              "      <td>8</td>\n",
              "      <td>7.657577</td>\n",
              "    </tr>\n",
              "    <tr>\n",
              "      <th>53</th>\n",
              "      <td>GILTERITINIB</td>\n",
              "      <td>CHEMBL3301622</td>\n",
              "      <td>CCc1nc(C(N)=O)c(Nc2ccc(N3CCC(N4CCN(C)CC4)CC3)c...</td>\n",
              "      <td>active</td>\n",
              "      <td>552.724</td>\n",
              "      <td>2.69720</td>\n",
              "      <td>3</td>\n",
              "      <td>10</td>\n",
              "      <td>7.602060</td>\n",
              "    </tr>\n",
              "    <tr>\n",
              "      <th>204</th>\n",
              "      <td>GSK-1059615</td>\n",
              "      <td>CHEMBL3544966</td>\n",
              "      <td>O=C1NC(=O)/C(=C/c2ccc3nccc(-c4ccncc4)c3c2)S1</td>\n",
              "      <td>active</td>\n",
              "      <td>333.372</td>\n",
              "      <td>3.62070</td>\n",
              "      <td>1</td>\n",
              "      <td>5</td>\n",
              "      <td>7.455932</td>\n",
              "    </tr>\n",
              "    <tr>\n",
              "      <th>59</th>\n",
              "      <td>PACRITINIB</td>\n",
              "      <td>CHEMBL2035187</td>\n",
              "      <td>C1=C/COCc2cc(ccc2OCCN2CCCC2)Nc2nccc(n2)-c2cccc...</td>\n",
              "      <td>active</td>\n",
              "      <td>472.589</td>\n",
              "      <td>4.96480</td>\n",
              "      <td>1</td>\n",
              "      <td>7</td>\n",
              "      <td>7.376751</td>\n",
              "    </tr>\n",
              "    <tr>\n",
              "      <th>216</th>\n",
              "      <td>BARICITINIB</td>\n",
              "      <td>CHEMBL2105759</td>\n",
              "      <td>CCS(=O)(=O)N1CC(CC#N)(n2cc(-c3ncnc4[nH]ccc34)c...</td>\n",
              "      <td>active</td>\n",
              "      <td>371.426</td>\n",
              "      <td>1.09568</td>\n",
              "      <td>1</td>\n",
              "      <td>7</td>\n",
              "      <td>7.337242</td>\n",
              "    </tr>\n",
              "    <tr>\n",
              "      <th>160</th>\n",
              "      <td>LESTAURTINIB</td>\n",
              "      <td>CHEMBL603469</td>\n",
              "      <td>C[C@]12O[C@H](C[C@]1(O)CO)n1c3ccccc3c3c4c(c5c6...</td>\n",
              "      <td>active</td>\n",
              "      <td>439.471</td>\n",
              "      <td>3.47440</td>\n",
              "      <td>3</td>\n",
              "      <td>6</td>\n",
              "      <td>7.180456</td>\n",
              "    </tr>\n",
              "    <tr>\n",
              "      <th>48</th>\n",
              "      <td>AZD-7762</td>\n",
              "      <td>CHEMBL2041933</td>\n",
              "      <td>NC(=O)Nc1cc(-c2cccc(F)c2)sc1C(=O)N[C@H]1CCCNC1</td>\n",
              "      <td>active</td>\n",
              "      <td>362.430</td>\n",
              "      <td>2.52660</td>\n",
              "      <td>4</td>\n",
              "      <td>4</td>\n",
              "      <td>7.136677</td>\n",
              "    </tr>\n",
              "    <tr>\n",
              "      <th>0</th>\n",
              "      <td>ABEMACICLIB</td>\n",
              "      <td>CHEMBL3301610</td>\n",
              "      <td>CCN1CCN(Cc2ccc(Nc3ncc(F)c(-c4cc(F)c5nc(C)n(C(C...</td>\n",
              "      <td>active</td>\n",
              "      <td>506.605</td>\n",
              "      <td>4.93692</td>\n",
              "      <td>1</td>\n",
              "      <td>8</td>\n",
              "      <td>6.991400</td>\n",
              "    </tr>\n",
              "    <tr>\n",
              "      <th>193</th>\n",
              "      <td>Y-39983</td>\n",
              "      <td>CHEMBL571948</td>\n",
              "      <td>C[C@@H](N)c1ccc(C(=O)Nc2ccnc3[nH]ccc23)cc1</td>\n",
              "      <td>active</td>\n",
              "      <td>280.331</td>\n",
              "      <td>2.83490</td>\n",
              "      <td>3</td>\n",
              "      <td>3</td>\n",
              "      <td>6.913640</td>\n",
              "    </tr>\n",
              "    <tr>\n",
              "      <th>11</th>\n",
              "      <td>XL-228</td>\n",
              "      <td>CHEMBL3545085</td>\n",
              "      <td>CC(C)c1cc(CNc2nc(Nc3cc(C4CC4)[nH]n3)cc(N3CCN(C...</td>\n",
              "      <td>active</td>\n",
              "      <td>437.552</td>\n",
              "      <td>3.29600</td>\n",
              "      <td>3</td>\n",
              "      <td>9</td>\n",
              "      <td>6.860121</td>\n",
              "    </tr>\n",
              "    <tr>\n",
              "      <th>92</th>\n",
              "      <td>None</td>\n",
              "      <td>CHEMBL3688339</td>\n",
              "      <td>CC(=O)c1cnc2ccc(-c3cc(Cl)c(O)c(Cl)c3)nc2c1N[C@...</td>\n",
              "      <td>active</td>\n",
              "      <td>487.431</td>\n",
              "      <td>6.04410</td>\n",
              "      <td>2</td>\n",
              "      <td>6</td>\n",
              "      <td>6.764472</td>\n",
              "    </tr>\n",
              "  </tbody>\n",
              "</table>\n",
              "</div>"
            ],
            "text/plain": [
              "    molecule_pref_name molecule_chembl_id  ... No_H-Acceptors    -logKd\n",
              "91                None      CHEMBL3991929  ...              8  9.000000\n",
              "95         PF-00477736      CHEMBL3545137  ...              7  8.698970\n",
              "84         MOMELOTINIB      CHEMBL1078178  ...              7  8.397940\n",
              "191             K-252A       CHEMBL281948  ...              7  8.301030\n",
              "50             CYC-116       CHEMBL482967  ...              8  8.221849\n",
              "185             XL-019      CHEMBL3545328  ...              7  8.221849\n",
              "18                None      CHEMBL1983111  ...              6  8.045757\n",
              "223         SAR-407899      CHEMBL1667969  ...              3  7.920819\n",
              "105            AT-9283       CHEMBL495727  ...              5  7.769551\n",
              "100         RGB-286638      CHEMBL3545083  ...              8  7.657577\n",
              "53        GILTERITINIB      CHEMBL3301622  ...             10  7.602060\n",
              "204        GSK-1059615      CHEMBL3544966  ...              5  7.455932\n",
              "59          PACRITINIB      CHEMBL2035187  ...              7  7.376751\n",
              "216        BARICITINIB      CHEMBL2105759  ...              7  7.337242\n",
              "160       LESTAURTINIB       CHEMBL603469  ...              6  7.180456\n",
              "48            AZD-7762      CHEMBL2041933  ...              4  7.136677\n",
              "0          ABEMACICLIB      CHEMBL3301610  ...              8  6.991400\n",
              "193            Y-39983       CHEMBL571948  ...              3  6.913640\n",
              "11              XL-228      CHEMBL3545085  ...              9  6.860121\n",
              "92                None      CHEMBL3688339  ...              6  6.764472\n",
              "\n",
              "[20 rows x 9 columns]"
            ]
          },
          "metadata": {
            "tags": []
          },
          "execution_count": 35
        }
      ]
    },
    {
      "cell_type": "code",
      "metadata": {
        "id": "VpYvNT3XPnif",
        "colab": {
          "base_uri": "https://localhost:8080/",
          "height": 816
        },
        "outputId": "89d18e9e-beb8-4aba-b239-c7a92d811a89"
      },
      "source": [
        "top_20_list = []\n",
        "for i in top_20.canonical_smiles:\n",
        "  mol = Chem.MolFromSmiles(i)\n",
        "  top_20_list.append(mol)\n",
        "\n",
        "Draw.MolsToGridImage(top_20_list, molsPerRow=5, legends=[str(x) for x in top_20.molecule_pref_name])"
      ],
      "execution_count": null,
      "outputs": [
        {
          "output_type": "execute_result",
          "data": {
            "image/png": "[encoded data removed]",
            "text/plain": [
              "<PIL.PngImagePlugin.PngImageFile image mode=RGB size=1000x800 at 0x7F45045FB208>"
            ]
          },
          "metadata": {
            "tags": []
          },
          "execution_count": 36
        }
      ]
    },
    {
      "cell_type": "markdown",
      "metadata": {
        "id": "CMhMpf6SQoxA"
      },
      "source": [
        "We see that Baricitinib is amongst the top 20 most stable structures amongst other molecules!"
      ]
    },
    {
      "cell_type": "markdown",
      "metadata": {
        "id": "QYQnI8pkZbcV"
      },
      "source": [
        "## **Chemical Space Analysis**"
      ]
    },
    {
      "cell_type": "markdown",
      "metadata": {
        "id": "rr9zFzUTaiHI"
      },
      "source": [
        "Let's plot a bioactivity histogram of the AAK1 inhibitors"
      ]
    },
    {
      "cell_type": "markdown",
      "metadata": {
        "id": "j15qndeNosGT"
      },
      "source": [
        "### **Bioactivity**"
      ]
    },
    {
      "cell_type": "code",
      "metadata": {
        "id": "oqXX7d9QYpyv",
        "colab": {
          "base_uri": "https://localhost:8080/",
          "height": 610
        },
        "outputId": "fc696e86-89ad-41f5-ff72-8ff3dee63ed9"
      },
      "source": [
        "plt.figure(figsize=(10,10))\n",
        "\n",
        "sbn.countplot(x='bioactivity', data=df_final, alpha=0.8)\n",
        "\n",
        "plt.xlabel('Bioactivity', fontsize=14, fontweight='bold')\n",
        "plt.ylabel('Frequency', fontsize=14, fontweight='bold')\n",
        "plt.show()\n",
        "# plt.savefig('bioactivity_frequency.pdf')"
      ],
      "execution_count": null,
      "outputs": [
        {
          "output_type": "display_data",
          "data": {
            "image/png": "[encoded data removed]",
            "text/plain": [
              "<Figure size 720x720 with 1 Axes>"
            ]
          },
          "metadata": {
            "tags": [],
            "needs_background": "light"
          }
        }
      ]
    },
    {
      "cell_type": "markdown",
      "metadata": {
        "id": "tlSM3qDNoy_y"
      },
      "source": [
        "### **MW vs LogP**"
      ]
    },
    {
      "cell_type": "markdown",
      "metadata": {
        "id": "QPGHYkW2bZUM"
      },
      "source": [
        "There were a lot of \"inactive\" compounds found. Do the inactive and active compounds share similar features? Like MW and LogP"
      ]
    },
    {
      "cell_type": "code",
      "metadata": {
        "id": "q2BWBT2mZWKJ",
        "colab": {
          "base_uri": "https://localhost:8080/",
          "height": 445
        },
        "outputId": "c66e7cdb-02eb-4020-c394-c77f240763a1"
      },
      "source": [
        "plt.figure(figsize=(7,7))\n",
        "\n",
        "sbn.scatterplot(x='MW', y='LogP', data=combined_info, hue='bioactivity', size='-logKd', edgecolor=None)\n",
        "\n",
        "plt.xlabel('MW', fontsize=14, fontweight='bold')\n",
        "plt.ylabel('LogP', fontsize=14, fontweight='bold')\n",
        "plt.legend(bbox_to_anchor=(1,1), loc=2)\n",
        "plt.show()\n",
        "# plt.savefig('MW_vs_LogP.png')"
      ],
      "execution_count": null,
      "outputs": [
        {
          "output_type": "display_data",
          "data": {
            "image/png": "[encoded data removed]",
            "text/plain": [
              "<Figure size 504x504 with 1 Axes>"
            ]
          },
          "metadata": {
            "tags": [],
            "needs_background": "light"
          }
        }
      ]
    },
    {
      "cell_type": "markdown",
      "metadata": {
        "id": "o11SdjotpZTu"
      },
      "source": [
        "## **Investigating the distribution of bioactivity with different properties**"
      ]
    },
    {
      "cell_type": "markdown",
      "metadata": {
        "id": "s5Cfua7OpaXr"
      },
      "source": [
        "### **$-log(K_d)$**"
      ]
    },
    {
      "cell_type": "code",
      "metadata": {
        "colab": {
          "base_uri": "https://localhost:8080/",
          "height": 462
        },
        "id": "EbrGa-f-onMG",
        "outputId": "4c757dd5-1400-475d-96b8-71c3bcebbdb6"
      },
      "source": [
        "plt.figure(figsize=(7,7))\n",
        "\n",
        "sbn.boxplot(x='bioactivity', y='-logKd', data=combined_info)\n",
        "\n",
        "plt.xlabel('Bioactivity', fontsize=12, fontweight='bold')\n",
        "plt.ylabel(r'$-logK_d$', fontsize=12, fontweight='bold')\n",
        "plt.show()\n",
        "#plt.savefig('distr_logkd.png', dpi=300)"
      ],
      "execution_count": null,
      "outputs": [
        {
          "output_type": "display_data",
          "data": {
            "image/png": "[encoded data removed]",
            "text/plain": [
              "<Figure size 504x504 with 1 Axes>"
            ]
          },
          "metadata": {
            "tags": [],
            "needs_background": "light"
          }
        },
        {
          "output_type": "display_data",
          "data": {
            "text/plain": [
              "<Figure size 432x288 with 0 Axes>"
            ]
          },
          "metadata": {
            "tags": []
          }
        }
      ]
    },
    {
      "cell_type": "markdown",
      "metadata": {
        "id": "xoKqtNOIqOUg"
      },
      "source": [
        "### **H-acceptors**"
      ]
    },
    {
      "cell_type": "code",
      "metadata": {
        "colab": {
          "base_uri": "https://localhost:8080/",
          "height": 462
        },
        "id": "8NgtVMqdqSCX",
        "outputId": "afdfcf3d-fa03-4f9b-ec7d-39d7179f598b"
      },
      "source": [
        "plt.figure(figsize=(7,7))\n",
        "\n",
        "sbn.boxplot(x='bioactivity', y='No_H-Acceptors', data=combined_info)\n",
        "\n",
        "plt.xlabel('Bioactivity', fontsize=12, fontweight='bold')\n",
        "plt.ylabel('No of H-Acceptors', fontsize=12, fontweight='bold')\n",
        "plt.show()\n",
        "#plt.savefig('distr_H-acceptors.png')"
      ],
      "execution_count": null,
      "outputs": [
        {
          "output_type": "display_data",
          "data": {
            "image/png": "[encoded data removed]",
            "text/plain": [
              "<Figure size 504x504 with 1 Axes>"
            ]
          },
          "metadata": {
            "tags": [],
            "needs_background": "light"
          }
        },
        {
          "output_type": "display_data",
          "data": {
            "text/plain": [
              "<Figure size 432x288 with 0 Axes>"
            ]
          },
          "metadata": {
            "tags": []
          }
        }
      ]
    },
    {
      "cell_type": "markdown",
      "metadata": {
        "id": "RNs-PH1irfet"
      },
      "source": [
        "### **H-donors**"
      ]
    },
    {
      "cell_type": "code",
      "metadata": {
        "colab": {
          "base_uri": "https://localhost:8080/",
          "height": 444
        },
        "id": "T06d8m33rfD5",
        "outputId": "071c91fb-8b4d-49fc-80a4-7d23d957d61c"
      },
      "source": [
        "plt.figure(figsize=(7,7))\n",
        "\n",
        "sbn.boxplot(x='bioactivity', y='No_H-Donors', data=combined_info)\n",
        "\n",
        "plt.xlabel('Bioactivity', fontsize=12, fontweight='bold')\n",
        "plt.ylabel('No of H-donors', fontsize=12, fontweight='bold')\n",
        "plt.show()\n",
        "#plt.savefig('distr_H-donors.png')"
      ],
      "execution_count": null,
      "outputs": [
        {
          "output_type": "display_data",
          "data": {
            "image/png": "[encoded data removed]",
            "text/plain": [
              "<Figure size 504x504 with 1 Axes>"
            ]
          },
          "metadata": {
            "tags": [],
            "needs_background": "light"
          }
        }
      ]
    },
    {
      "cell_type": "markdown",
      "metadata": {
        "id": "GWRd1daiwVBi"
      },
      "source": [
        "### **$logP$**"
      ]
    },
    {
      "cell_type": "code",
      "metadata": {
        "colab": {
          "base_uri": "https://localhost:8080/",
          "height": 444
        },
        "id": "0BlzurA2wZbe",
        "outputId": "d18ec544-605a-4648-f877-d6c27bf56232"
      },
      "source": [
        "plt.figure(figsize=(7,7))\n",
        "\n",
        "sbn.boxplot(x='bioactivity', y='LogP', data=combined_info)\n",
        "\n",
        "plt.xlabel('Bioactivity', fontsize=12, fontweight='bold')\n",
        "plt.ylabel('LogP', fontsize=12, fontweight='bold')\n",
        "plt.show()\n",
        "#plt.savefig('distr_logp.png')"
      ],
      "execution_count": null,
      "outputs": [
        {
          "output_type": "display_data",
          "data": {
            "image/png": "[encoded data removed]",
            "text/plain": [
              "<Figure size 504x504 with 1 Axes>"
            ]
          },
          "metadata": {
            "tags": [],
            "needs_background": "light"
          }
        }
      ]
    },
    {
      "cell_type": "markdown",
      "metadata": {
        "id": "1Ln5GZyeyaYW"
      },
      "source": [
        "### **MW**"
      ]
    },
    {
      "cell_type": "code",
      "metadata": {
        "colab": {
          "base_uri": "https://localhost:8080/",
          "height": 444
        },
        "id": "okjhwbeHycHe",
        "outputId": "4b453a5f-369c-48be-d5f2-f0c88bbc0e90"
      },
      "source": [
        "plt.figure(figsize=(7,7))\n",
        "\n",
        "sbn.boxplot(x='bioactivity', y='MW', data=combined_info)\n",
        "\n",
        "plt.xlabel('Bioactivity', fontsize=12, fontweight='bold')\n",
        "plt.ylabel('MW', fontsize=12, fontweight='bold')\n",
        "plt.show()\n",
        "#plt.savefig('distr_MW.png')"
      ],
      "execution_count": null,
      "outputs": [
        {
          "output_type": "display_data",
          "data": {
            "image/png": "[encoded data removed]",
            "text/plain": [
              "<Figure size 504x504 with 1 Axes>"
            ]
          },
          "metadata": {
            "tags": [],
            "needs_background": "light"
          }
        }
      ]
    },
    {
      "cell_type": "markdown",
      "metadata": {
        "id": "F9auSm82p4Qx"
      },
      "source": [
        "## **The Mann-Whitney U Test**"
      ]
    },
    {
      "cell_type": "markdown",
      "metadata": {
        "id": "oSs5JTvop5NC"
      },
      "source": [
        "Let's investigate the statistical differences between the inactive and active molecules for each property/descriptor.\n",
        "\n",
        "A p below our $\\alpha$ can be intepretted as the showing statistically significant differences.\n",
        "\n",
        "https://www.statstutor.ac.uk/resources/uploaded/mannwhitney.pdf"
      ]
    },
    {
      "cell_type": "code",
      "metadata": {
        "id": "FJIsL5wRpidE"
      },
      "source": [
        "# the below function has been obtained from the amazing work of https://github.com/dataprofessor\n",
        "def mannwhitney(descriptor, verbose=False):\n",
        "  from numpy.random import seed\n",
        "  from numpy.random import randn\n",
        "  from scipy.stats import mannwhitneyu\n",
        "\n",
        "# seed the random number generator\n",
        "  seed(100)\n",
        "\n",
        "# actives and inactives\n",
        "  selection = [descriptor, 'bioactivity']\n",
        "  df = combined_info[selection]\n",
        "  active = df[df['bioactivity'] == 'active']\n",
        "  active = active[descriptor]\n",
        "\n",
        "  selection = [descriptor, 'bioactivity']\n",
        "  df = combined_info[selection]\n",
        "  inactive = df[df['bioactivity'] == 'inactive']\n",
        "  inactive = inactive[descriptor]\n",
        "\n",
        "# compare samples\n",
        "  stat, p = mannwhitneyu(active, inactive)\n",
        "\n",
        "# interpret\n",
        "  alpha = 0.05\n",
        "  if p > alpha:\n",
        "    interpretation = 'Same distribution (fail to reject null hyp)'\n",
        "  else:\n",
        "    interpretation = 'Different distribution (reject null hyp)'\n",
        "  \n",
        "  results = pd.DataFrame({'Descriptor':descriptor,\n",
        "                          'Statistics':stat,\n",
        "                          'p':p,\n",
        "                          'alpha':alpha,\n",
        "                          'Interpretation':interpretation}, index=[0])\n",
        "\n",
        "  return results"
      ],
      "execution_count": null,
      "outputs": []
    },
    {
      "cell_type": "markdown",
      "metadata": {
        "id": "4DLgF_rw7BAc"
      },
      "source": [
        "**Our pIC50s will definitely have a different distribution as we classed the bioactivities as such.**"
      ]
    },
    {
      "cell_type": "code",
      "metadata": {
        "colab": {
          "base_uri": "https://localhost:8080/",
          "height": 77
        },
        "id": "dJLQDC23xp6j",
        "outputId": "b7dec424-7193-4cef-e3bf-bb9aa2757b1e"
      },
      "source": [
        "mannwhitney('MW')"
      ],
      "execution_count": null,
      "outputs": [
        {
          "output_type": "execute_result",
          "data": {
            "text/html": [
              "<div>\n",
              "<style scoped>\n",
              "    .dataframe tbody tr th:only-of-type {\n",
              "        vertical-align: middle;\n",
              "    }\n",
              "\n",
              "    .dataframe tbody tr th {\n",
              "        vertical-align: top;\n",
              "    }\n",
              "\n",
              "    .dataframe thead th {\n",
              "        text-align: right;\n",
              "    }\n",
              "</style>\n",
              "<table border=\"1\" class=\"dataframe\">\n",
              "  <thead>\n",
              "    <tr style=\"text-align: right;\">\n",
              "      <th></th>\n",
              "      <th>Descriptor</th>\n",
              "      <th>Statistics</th>\n",
              "      <th>p</th>\n",
              "      <th>alpha</th>\n",
              "      <th>Interpretation</th>\n",
              "    </tr>\n",
              "  </thead>\n",
              "  <tbody>\n",
              "    <tr>\n",
              "      <th>0</th>\n",
              "      <td>MW</td>\n",
              "      <td>1727.0</td>\n",
              "      <td>0.038491</td>\n",
              "      <td>0.05</td>\n",
              "      <td>Different distribution (reject null hyp)</td>\n",
              "    </tr>\n",
              "  </tbody>\n",
              "</table>\n",
              "</div>"
            ],
            "text/plain": [
              "  Descriptor  Statistics  ...  alpha                            Interpretation\n",
              "0         MW      1727.0  ...   0.05  Different distribution (reject null hyp)\n",
              "\n",
              "[1 rows x 5 columns]"
            ]
          },
          "metadata": {
            "tags": []
          },
          "execution_count": 63
        }
      ]
    },
    {
      "cell_type": "code",
      "metadata": {
        "colab": {
          "base_uri": "https://localhost:8080/",
          "height": 77
        },
        "id": "5Wwaps6C3bac",
        "outputId": "d5da1cb7-a8be-4fb1-9aa7-9b3b5eeb111a"
      },
      "source": [
        "mannwhitney('LogP')"
      ],
      "execution_count": null,
      "outputs": [
        {
          "output_type": "execute_result",
          "data": {
            "text/html": [
              "<div>\n",
              "<style scoped>\n",
              "    .dataframe tbody tr th:only-of-type {\n",
              "        vertical-align: middle;\n",
              "    }\n",
              "\n",
              "    .dataframe tbody tr th {\n",
              "        vertical-align: top;\n",
              "    }\n",
              "\n",
              "    .dataframe thead th {\n",
              "        text-align: right;\n",
              "    }\n",
              "</style>\n",
              "<table border=\"1\" class=\"dataframe\">\n",
              "  <thead>\n",
              "    <tr style=\"text-align: right;\">\n",
              "      <th></th>\n",
              "      <th>Descriptor</th>\n",
              "      <th>Statistics</th>\n",
              "      <th>p</th>\n",
              "      <th>alpha</th>\n",
              "      <th>Interpretation</th>\n",
              "    </tr>\n",
              "  </thead>\n",
              "  <tbody>\n",
              "    <tr>\n",
              "      <th>0</th>\n",
              "      <td>LogP</td>\n",
              "      <td>1537.0</td>\n",
              "      <td>0.007429</td>\n",
              "      <td>0.05</td>\n",
              "      <td>Different distribution (reject null hyp)</td>\n",
              "    </tr>\n",
              "  </tbody>\n",
              "</table>\n",
              "</div>"
            ],
            "text/plain": [
              "  Descriptor  Statistics  ...  alpha                            Interpretation\n",
              "0       LogP      1537.0  ...   0.05  Different distribution (reject null hyp)\n",
              "\n",
              "[1 rows x 5 columns]"
            ]
          },
          "metadata": {
            "tags": []
          },
          "execution_count": 64
        }
      ]
    },
    {
      "cell_type": "code",
      "metadata": {
        "colab": {
          "base_uri": "https://localhost:8080/",
          "height": 77
        },
        "id": "bGKCtNws3fo9",
        "outputId": "2f3dc95f-73c2-4cea-abfe-e52810627756"
      },
      "source": [
        "mannwhitney('No_H-Acceptors')"
      ],
      "execution_count": null,
      "outputs": [
        {
          "output_type": "execute_result",
          "data": {
            "text/html": [
              "<div>\n",
              "<style scoped>\n",
              "    .dataframe tbody tr th:only-of-type {\n",
              "        vertical-align: middle;\n",
              "    }\n",
              "\n",
              "    .dataframe tbody tr th {\n",
              "        vertical-align: top;\n",
              "    }\n",
              "\n",
              "    .dataframe thead th {\n",
              "        text-align: right;\n",
              "    }\n",
              "</style>\n",
              "<table border=\"1\" class=\"dataframe\">\n",
              "  <thead>\n",
              "    <tr style=\"text-align: right;\">\n",
              "      <th></th>\n",
              "      <th>Descriptor</th>\n",
              "      <th>Statistics</th>\n",
              "      <th>p</th>\n",
              "      <th>alpha</th>\n",
              "      <th>Interpretation</th>\n",
              "    </tr>\n",
              "  </thead>\n",
              "  <tbody>\n",
              "    <tr>\n",
              "      <th>0</th>\n",
              "      <td>No_H-Acceptors</td>\n",
              "      <td>1897.0</td>\n",
              "      <td>0.117545</td>\n",
              "      <td>0.05</td>\n",
              "      <td>Same distribution (fail to reject null hyp)</td>\n",
              "    </tr>\n",
              "  </tbody>\n",
              "</table>\n",
              "</div>"
            ],
            "text/plain": [
              "       Descriptor  ...                               Interpretation\n",
              "0  No_H-Acceptors  ...  Same distribution (fail to reject null hyp)\n",
              "\n",
              "[1 rows x 5 columns]"
            ]
          },
          "metadata": {
            "tags": []
          },
          "execution_count": 65
        }
      ]
    },
    {
      "cell_type": "markdown",
      "metadata": {
        "id": "1zSx9T033npz"
      },
      "source": [
        "There does not seem to be a significant enough statistical difference between the No of H-acceptors found in inactive and active compounds!\n",
        "\n",
        "(More data required)"
      ]
    },
    {
      "cell_type": "code",
      "metadata": {
        "colab": {
          "base_uri": "https://localhost:8080/",
          "height": 77
        },
        "id": "r8N0CLHP3fGC",
        "outputId": "2b8fbe6e-093a-4e01-b92b-152efeda8492"
      },
      "source": [
        "mannwhitney('No_H-Donors')"
      ],
      "execution_count": null,
      "outputs": [
        {
          "output_type": "execute_result",
          "data": {
            "text/html": [
              "<div>\n",
              "<style scoped>\n",
              "    .dataframe tbody tr th:only-of-type {\n",
              "        vertical-align: middle;\n",
              "    }\n",
              "\n",
              "    .dataframe tbody tr th {\n",
              "        vertical-align: top;\n",
              "    }\n",
              "\n",
              "    .dataframe thead th {\n",
              "        text-align: right;\n",
              "    }\n",
              "</style>\n",
              "<table border=\"1\" class=\"dataframe\">\n",
              "  <thead>\n",
              "    <tr style=\"text-align: right;\">\n",
              "      <th></th>\n",
              "      <th>Descriptor</th>\n",
              "      <th>Statistics</th>\n",
              "      <th>p</th>\n",
              "      <th>alpha</th>\n",
              "      <th>Interpretation</th>\n",
              "    </tr>\n",
              "  </thead>\n",
              "  <tbody>\n",
              "    <tr>\n",
              "      <th>0</th>\n",
              "      <td>No_H-Donors</td>\n",
              "      <td>1698.0</td>\n",
              "      <td>0.024725</td>\n",
              "      <td>0.05</td>\n",
              "      <td>Different distribution (reject null hyp)</td>\n",
              "    </tr>\n",
              "  </tbody>\n",
              "</table>\n",
              "</div>"
            ],
            "text/plain": [
              "    Descriptor  Statistics  ...  alpha                            Interpretation\n",
              "0  No_H-Donors      1698.0  ...   0.05  Different distribution (reject null hyp)\n",
              "\n",
              "[1 rows x 5 columns]"
            ]
          },
          "metadata": {
            "tags": []
          },
          "execution_count": 66
        }
      ]
    },
    {
      "cell_type": "markdown",
      "metadata": {
        "id": "ZSAFqE8Bx1rZ"
      },
      "source": [
        "**Let's attempt to train a model with a bigger dataset. Like AChE inhibitors...**"
      ]
    }
  ]
}